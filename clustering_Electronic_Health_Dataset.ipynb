{
  "nbformat": 4,
  "nbformat_minor": 0,
  "metadata": {
    "colab": {
      "provenance": [],
      "mount_file_id": "1TGfzc5gjfeBLGPijw5UbEVPJf19OwO8A",
      "authorship_tag": "ABX9TyO7dw1RnDz8PFYMRkNSGj6V",
      "include_colab_link": true
    },
    "kernelspec": {
      "name": "python3",
      "display_name": "Python 3"
    },
    "language_info": {
      "name": "python"
    }
  },
  "cells": [
    {
      "cell_type": "markdown",
      "metadata": {
        "id": "view-in-github",
        "colab_type": "text"
      },
      "source": [
        "<a href=\"https://colab.research.google.com/github/tincorpai/sklearn_projects/blob/master/clustering_Electronic_Health_Dataset.ipynb\" target=\"_parent\"><img src=\"https://colab.research.google.com/assets/colab-badge.svg\" alt=\"Open In Colab\"/></a>"
      ]
    },
    {
      "cell_type": "markdown",
      "source": [
        "# Clustering for Electornic Health Dataset.\n"
      ],
      "metadata": {
        "id": "cOZVbxnQVdvy"
      }
    },
    {
      "cell_type": "markdown",
      "source": [
        "Clustering is an unsupervised learning technique which attempts to group objects together based on similarity. Clustering achieves this without using any labels, comparing how similar the data for one observation is to data for other observations and groups."
      ],
      "metadata": {
        "id": "2MZaYjd5VrUG"
      }
    },
    {
      "cell_type": "markdown",
      "source": [
        "Clustering has many applications. One of the applications of clustering in real world dataset for example, electronic health record to group patients accoding to region and disease status.\n",
        "\n",
        "\n",
        "In this project, we will be using the \"electronic adoption and use by state dataset\" to group patients with similar prescriptions"
      ],
      "metadata": {
        "id": "KyDdVevtWS7P"
      }
    },
    {
      "cell_type": "code",
      "source": [
        "# Import libraries\n",
        "import pandas as pd\n",
        "import numpy as np\n",
        "import matplotlib.pyplot as plt\n",
        "import seaborn as sns\n",
        "from sklearn.ensemble import RandomForestRegressor\n",
        "from sklearn.model_selection import train_test_split\n",
        "from sklearn.cluster import KMeans"
      ],
      "metadata": {
        "id": "f7ScK_uPKbPK"
      },
      "execution_count": 98,
      "outputs": []
    },
    {
      "cell_type": "code",
      "source": [
        "%cd '/content/drive/My Drive/Data_Science_Git/Clustering_projects'"
      ],
      "metadata": {
        "colab": {
          "base_uri": "https://localhost:8080/"
        },
        "id": "__U6lI3dKUyl",
        "outputId": "0839ee4c-86dc-4f1a-f201-798c4d97ca8e"
      },
      "execution_count": 67,
      "outputs": [
        {
          "output_type": "stream",
          "name": "stdout",
          "text": [
            "/content/drive/My Drive/Data_Science_Git/Clustering_projects\n"
          ]
        }
      ]
    },
    {
      "cell_type": "code",
      "source": [
        "data = pd.read_csv(\"surescripts-04-2014-state-csv-1(1).csv\")\n",
        "data.head()"
      ],
      "metadata": {
        "id": "uHB3EhOeoURw",
        "colab": {
          "base_uri": "https://localhost:8080/",
          "height": 226
        },
        "outputId": "d77adb28-8254-4300-f9a4-938dd32e0f7b"
      },
      "execution_count": 68,
      "outputs": [
        {
          "output_type": "execute_result",
          "data": {
            "text/plain": [
              "     region region_code period  tot_e_Rx  tot_e_Rx_thru_ehr  \\\n",
              "0  National          US   2008       NaN                NaN   \n",
              "1  National          US   2009       NaN                NaN   \n",
              "2  National          US   2010       NaN                NaN   \n",
              "3  National          US   2011       NaN                NaN   \n",
              "4  National          US   2012       NaN                NaN   \n",
              "\n",
              "   tot_e_Rx_thru_stand_alone  tot_primary_care_e_Rx  \\\n",
              "0                        NaN                    NaN   \n",
              "1                        NaN                    NaN   \n",
              "2                        NaN                    NaN   \n",
              "3                        NaN                    NaN   \n",
              "4                        NaN                    NaN   \n",
              "\n",
              "   tot_non_primary_care_e_Rx  tot_nurse_prac_e_Rx  tot_phys_asst_e_Rx  \\\n",
              "0                        NaN                  NaN                 NaN   \n",
              "1                        NaN                  NaN                 NaN   \n",
              "2                        NaN                  NaN                 NaN   \n",
              "3                        NaN                  NaN                 NaN   \n",
              "4                        NaN                  NaN                 NaN   \n",
              "\n",
              "   pct_new_renewal_e_Rx  tot_med_hist_reqs  tot_med_hist_req_resps  \\\n",
              "0                  0.04                NaN                     NaN   \n",
              "1                  0.11                NaN                     NaN   \n",
              "2                  0.19                NaN                     NaN   \n",
              "3                  0.32                NaN                     NaN   \n",
              "4                  0.52                NaN                     NaN   \n",
              "\n",
              "   pct_pharm_enabled  pct_pharm_e_Rx  \n",
              "0                NaN             NaN  \n",
              "1                NaN             NaN  \n",
              "2                NaN             NaN  \n",
              "3                NaN             NaN  \n",
              "4                NaN             NaN  "
            ],
            "text/html": [
              "\n",
              "  <div id=\"df-019f0dfb-1327-43c5-80b0-09fd0a9b822d\" class=\"colab-df-container\">\n",
              "    <div>\n",
              "<style scoped>\n",
              "    .dataframe tbody tr th:only-of-type {\n",
              "        vertical-align: middle;\n",
              "    }\n",
              "\n",
              "    .dataframe tbody tr th {\n",
              "        vertical-align: top;\n",
              "    }\n",
              "\n",
              "    .dataframe thead th {\n",
              "        text-align: right;\n",
              "    }\n",
              "</style>\n",
              "<table border=\"1\" class=\"dataframe\">\n",
              "  <thead>\n",
              "    <tr style=\"text-align: right;\">\n",
              "      <th></th>\n",
              "      <th>region</th>\n",
              "      <th>region_code</th>\n",
              "      <th>period</th>\n",
              "      <th>tot_e_Rx</th>\n",
              "      <th>tot_e_Rx_thru_ehr</th>\n",
              "      <th>tot_e_Rx_thru_stand_alone</th>\n",
              "      <th>tot_primary_care_e_Rx</th>\n",
              "      <th>tot_non_primary_care_e_Rx</th>\n",
              "      <th>tot_nurse_prac_e_Rx</th>\n",
              "      <th>tot_phys_asst_e_Rx</th>\n",
              "      <th>pct_new_renewal_e_Rx</th>\n",
              "      <th>tot_med_hist_reqs</th>\n",
              "      <th>tot_med_hist_req_resps</th>\n",
              "      <th>pct_pharm_enabled</th>\n",
              "      <th>pct_pharm_e_Rx</th>\n",
              "    </tr>\n",
              "  </thead>\n",
              "  <tbody>\n",
              "    <tr>\n",
              "      <th>0</th>\n",
              "      <td>National</td>\n",
              "      <td>US</td>\n",
              "      <td>2008</td>\n",
              "      <td>NaN</td>\n",
              "      <td>NaN</td>\n",
              "      <td>NaN</td>\n",
              "      <td>NaN</td>\n",
              "      <td>NaN</td>\n",
              "      <td>NaN</td>\n",
              "      <td>NaN</td>\n",
              "      <td>0.04</td>\n",
              "      <td>NaN</td>\n",
              "      <td>NaN</td>\n",
              "      <td>NaN</td>\n",
              "      <td>NaN</td>\n",
              "    </tr>\n",
              "    <tr>\n",
              "      <th>1</th>\n",
              "      <td>National</td>\n",
              "      <td>US</td>\n",
              "      <td>2009</td>\n",
              "      <td>NaN</td>\n",
              "      <td>NaN</td>\n",
              "      <td>NaN</td>\n",
              "      <td>NaN</td>\n",
              "      <td>NaN</td>\n",
              "      <td>NaN</td>\n",
              "      <td>NaN</td>\n",
              "      <td>0.11</td>\n",
              "      <td>NaN</td>\n",
              "      <td>NaN</td>\n",
              "      <td>NaN</td>\n",
              "      <td>NaN</td>\n",
              "    </tr>\n",
              "    <tr>\n",
              "      <th>2</th>\n",
              "      <td>National</td>\n",
              "      <td>US</td>\n",
              "      <td>2010</td>\n",
              "      <td>NaN</td>\n",
              "      <td>NaN</td>\n",
              "      <td>NaN</td>\n",
              "      <td>NaN</td>\n",
              "      <td>NaN</td>\n",
              "      <td>NaN</td>\n",
              "      <td>NaN</td>\n",
              "      <td>0.19</td>\n",
              "      <td>NaN</td>\n",
              "      <td>NaN</td>\n",
              "      <td>NaN</td>\n",
              "      <td>NaN</td>\n",
              "    </tr>\n",
              "    <tr>\n",
              "      <th>3</th>\n",
              "      <td>National</td>\n",
              "      <td>US</td>\n",
              "      <td>2011</td>\n",
              "      <td>NaN</td>\n",
              "      <td>NaN</td>\n",
              "      <td>NaN</td>\n",
              "      <td>NaN</td>\n",
              "      <td>NaN</td>\n",
              "      <td>NaN</td>\n",
              "      <td>NaN</td>\n",
              "      <td>0.32</td>\n",
              "      <td>NaN</td>\n",
              "      <td>NaN</td>\n",
              "      <td>NaN</td>\n",
              "      <td>NaN</td>\n",
              "    </tr>\n",
              "    <tr>\n",
              "      <th>4</th>\n",
              "      <td>National</td>\n",
              "      <td>US</td>\n",
              "      <td>2012</td>\n",
              "      <td>NaN</td>\n",
              "      <td>NaN</td>\n",
              "      <td>NaN</td>\n",
              "      <td>NaN</td>\n",
              "      <td>NaN</td>\n",
              "      <td>NaN</td>\n",
              "      <td>NaN</td>\n",
              "      <td>0.52</td>\n",
              "      <td>NaN</td>\n",
              "      <td>NaN</td>\n",
              "      <td>NaN</td>\n",
              "      <td>NaN</td>\n",
              "    </tr>\n",
              "  </tbody>\n",
              "</table>\n",
              "</div>\n",
              "    <div class=\"colab-df-buttons\">\n",
              "\n",
              "  <div class=\"colab-df-container\">\n",
              "    <button class=\"colab-df-convert\" onclick=\"convertToInteractive('df-019f0dfb-1327-43c5-80b0-09fd0a9b822d')\"\n",
              "            title=\"Convert this dataframe to an interactive table.\"\n",
              "            style=\"display:none;\">\n",
              "\n",
              "  <svg xmlns=\"http://www.w3.org/2000/svg\" height=\"24px\" viewBox=\"0 -960 960 960\">\n",
              "    <path d=\"M120-120v-720h720v720H120Zm60-500h600v-160H180v160Zm220 220h160v-160H400v160Zm0 220h160v-160H400v160ZM180-400h160v-160H180v160Zm440 0h160v-160H620v160ZM180-180h160v-160H180v160Zm440 0h160v-160H620v160Z\"/>\n",
              "  </svg>\n",
              "    </button>\n",
              "\n",
              "  <style>\n",
              "    .colab-df-container {\n",
              "      display:flex;\n",
              "      gap: 12px;\n",
              "    }\n",
              "\n",
              "    .colab-df-convert {\n",
              "      background-color: #E8F0FE;\n",
              "      border: none;\n",
              "      border-radius: 50%;\n",
              "      cursor: pointer;\n",
              "      display: none;\n",
              "      fill: #1967D2;\n",
              "      height: 32px;\n",
              "      padding: 0 0 0 0;\n",
              "      width: 32px;\n",
              "    }\n",
              "\n",
              "    .colab-df-convert:hover {\n",
              "      background-color: #E2EBFA;\n",
              "      box-shadow: 0px 1px 2px rgba(60, 64, 67, 0.3), 0px 1px 3px 1px rgba(60, 64, 67, 0.15);\n",
              "      fill: #174EA6;\n",
              "    }\n",
              "\n",
              "    .colab-df-buttons div {\n",
              "      margin-bottom: 4px;\n",
              "    }\n",
              "\n",
              "    [theme=dark] .colab-df-convert {\n",
              "      background-color: #3B4455;\n",
              "      fill: #D2E3FC;\n",
              "    }\n",
              "\n",
              "    [theme=dark] .colab-df-convert:hover {\n",
              "      background-color: #434B5C;\n",
              "      box-shadow: 0px 1px 3px 1px rgba(0, 0, 0, 0.15);\n",
              "      filter: drop-shadow(0px 1px 2px rgba(0, 0, 0, 0.3));\n",
              "      fill: #FFFFFF;\n",
              "    }\n",
              "  </style>\n",
              "\n",
              "    <script>\n",
              "      const buttonEl =\n",
              "        document.querySelector('#df-019f0dfb-1327-43c5-80b0-09fd0a9b822d button.colab-df-convert');\n",
              "      buttonEl.style.display =\n",
              "        google.colab.kernel.accessAllowed ? 'block' : 'none';\n",
              "\n",
              "      async function convertToInteractive(key) {\n",
              "        const element = document.querySelector('#df-019f0dfb-1327-43c5-80b0-09fd0a9b822d');\n",
              "        const dataTable =\n",
              "          await google.colab.kernel.invokeFunction('convertToInteractive',\n",
              "                                                    [key], {});\n",
              "        if (!dataTable) return;\n",
              "\n",
              "        const docLinkHtml = 'Like what you see? Visit the ' +\n",
              "          '<a target=\"_blank\" href=https://colab.research.google.com/notebooks/data_table.ipynb>data table notebook</a>'\n",
              "          + ' to learn more about interactive tables.';\n",
              "        element.innerHTML = '';\n",
              "        dataTable['output_type'] = 'display_data';\n",
              "        await google.colab.output.renderOutput(dataTable, element);\n",
              "        const docLink = document.createElement('div');\n",
              "        docLink.innerHTML = docLinkHtml;\n",
              "        element.appendChild(docLink);\n",
              "      }\n",
              "    </script>\n",
              "  </div>\n",
              "\n",
              "\n",
              "<div id=\"df-c4c1f888-9b2d-4ad6-b032-81b604930e1c\">\n",
              "  <button class=\"colab-df-quickchart\" onclick=\"quickchart('df-c4c1f888-9b2d-4ad6-b032-81b604930e1c')\"\n",
              "            title=\"Suggest charts\"\n",
              "            style=\"display:none;\">\n",
              "\n",
              "<svg xmlns=\"http://www.w3.org/2000/svg\" height=\"24px\"viewBox=\"0 0 24 24\"\n",
              "     width=\"24px\">\n",
              "    <g>\n",
              "        <path d=\"M19 3H5c-1.1 0-2 .9-2 2v14c0 1.1.9 2 2 2h14c1.1 0 2-.9 2-2V5c0-1.1-.9-2-2-2zM9 17H7v-7h2v7zm4 0h-2V7h2v10zm4 0h-2v-4h2v4z\"/>\n",
              "    </g>\n",
              "</svg>\n",
              "  </button>\n",
              "\n",
              "<style>\n",
              "  .colab-df-quickchart {\n",
              "      --bg-color: #E8F0FE;\n",
              "      --fill-color: #1967D2;\n",
              "      --hover-bg-color: #E2EBFA;\n",
              "      --hover-fill-color: #174EA6;\n",
              "      --disabled-fill-color: #AAA;\n",
              "      --disabled-bg-color: #DDD;\n",
              "  }\n",
              "\n",
              "  [theme=dark] .colab-df-quickchart {\n",
              "      --bg-color: #3B4455;\n",
              "      --fill-color: #D2E3FC;\n",
              "      --hover-bg-color: #434B5C;\n",
              "      --hover-fill-color: #FFFFFF;\n",
              "      --disabled-bg-color: #3B4455;\n",
              "      --disabled-fill-color: #666;\n",
              "  }\n",
              "\n",
              "  .colab-df-quickchart {\n",
              "    background-color: var(--bg-color);\n",
              "    border: none;\n",
              "    border-radius: 50%;\n",
              "    cursor: pointer;\n",
              "    display: none;\n",
              "    fill: var(--fill-color);\n",
              "    height: 32px;\n",
              "    padding: 0;\n",
              "    width: 32px;\n",
              "  }\n",
              "\n",
              "  .colab-df-quickchart:hover {\n",
              "    background-color: var(--hover-bg-color);\n",
              "    box-shadow: 0 1px 2px rgba(60, 64, 67, 0.3), 0 1px 3px 1px rgba(60, 64, 67, 0.15);\n",
              "    fill: var(--button-hover-fill-color);\n",
              "  }\n",
              "\n",
              "  .colab-df-quickchart-complete:disabled,\n",
              "  .colab-df-quickchart-complete:disabled:hover {\n",
              "    background-color: var(--disabled-bg-color);\n",
              "    fill: var(--disabled-fill-color);\n",
              "    box-shadow: none;\n",
              "  }\n",
              "\n",
              "  .colab-df-spinner {\n",
              "    border: 2px solid var(--fill-color);\n",
              "    border-color: transparent;\n",
              "    border-bottom-color: var(--fill-color);\n",
              "    animation:\n",
              "      spin 1s steps(1) infinite;\n",
              "  }\n",
              "\n",
              "  @keyframes spin {\n",
              "    0% {\n",
              "      border-color: transparent;\n",
              "      border-bottom-color: var(--fill-color);\n",
              "      border-left-color: var(--fill-color);\n",
              "    }\n",
              "    20% {\n",
              "      border-color: transparent;\n",
              "      border-left-color: var(--fill-color);\n",
              "      border-top-color: var(--fill-color);\n",
              "    }\n",
              "    30% {\n",
              "      border-color: transparent;\n",
              "      border-left-color: var(--fill-color);\n",
              "      border-top-color: var(--fill-color);\n",
              "      border-right-color: var(--fill-color);\n",
              "    }\n",
              "    40% {\n",
              "      border-color: transparent;\n",
              "      border-right-color: var(--fill-color);\n",
              "      border-top-color: var(--fill-color);\n",
              "    }\n",
              "    60% {\n",
              "      border-color: transparent;\n",
              "      border-right-color: var(--fill-color);\n",
              "    }\n",
              "    80% {\n",
              "      border-color: transparent;\n",
              "      border-right-color: var(--fill-color);\n",
              "      border-bottom-color: var(--fill-color);\n",
              "    }\n",
              "    90% {\n",
              "      border-color: transparent;\n",
              "      border-bottom-color: var(--fill-color);\n",
              "    }\n",
              "  }\n",
              "</style>\n",
              "\n",
              "  <script>\n",
              "    async function quickchart(key) {\n",
              "      const quickchartButtonEl =\n",
              "        document.querySelector('#' + key + ' button');\n",
              "      quickchartButtonEl.disabled = true;  // To prevent multiple clicks.\n",
              "      quickchartButtonEl.classList.add('colab-df-spinner');\n",
              "      try {\n",
              "        const charts = await google.colab.kernel.invokeFunction(\n",
              "            'suggestCharts', [key], {});\n",
              "      } catch (error) {\n",
              "        console.error('Error during call to suggestCharts:', error);\n",
              "      }\n",
              "      quickchartButtonEl.classList.remove('colab-df-spinner');\n",
              "      quickchartButtonEl.classList.add('colab-df-quickchart-complete');\n",
              "    }\n",
              "    (() => {\n",
              "      let quickchartButtonEl =\n",
              "        document.querySelector('#df-c4c1f888-9b2d-4ad6-b032-81b604930e1c button');\n",
              "      quickchartButtonEl.style.display =\n",
              "        google.colab.kernel.accessAllowed ? 'block' : 'none';\n",
              "    })();\n",
              "  </script>\n",
              "</div>\n",
              "\n",
              "    </div>\n",
              "  </div>\n"
            ],
            "application/vnd.google.colaboratory.intrinsic+json": {
              "type": "dataframe",
              "variable_name": "data",
              "summary": "{\n  \"name\": \"data\",\n  \"rows\": 3824,\n  \"fields\": [\n    {\n      \"column\": \"region\",\n      \"properties\": {\n        \"dtype\": \"category\",\n        \"num_unique_values\": 54,\n        \"samples\": [\n          \"Louisiana\",\n          \"Vermont\",\n          \"Virgin Islands\"\n        ],\n        \"semantic_type\": \"\",\n        \"description\": \"\"\n      }\n    },\n    {\n      \"column\": \"region_code\",\n      \"properties\": {\n        \"dtype\": \"category\",\n        \"num_unique_values\": 54,\n        \"samples\": [\n          \"LA\",\n          \"VT\",\n          \"VI\"\n        ],\n        \"semantic_type\": \"\",\n        \"description\": \"\"\n      }\n    },\n    {\n      \"column\": \"period\",\n      \"properties\": {\n        \"dtype\": \"category\",\n        \"num_unique_values\": 71,\n        \"samples\": [\n          \"2010-04\",\n          \"2008\",\n          \"2012-07\"\n        ],\n        \"semantic_type\": \"\",\n        \"description\": \"\"\n      }\n    },\n    {\n      \"column\": \"tot_e_Rx\",\n      \"properties\": {\n        \"dtype\": \"number\",\n        \"std\": 50092.412936657434,\n        \"min\": 3.0,\n        \"max\": 582397.0,\n        \"num_unique_values\": 3012,\n        \"samples\": [\n          4430.0,\n          27031.0,\n          3585.0\n        ],\n        \"semantic_type\": \"\",\n        \"description\": \"\"\n      }\n    },\n    {\n      \"column\": \"tot_e_Rx_thru_ehr\",\n      \"properties\": {\n        \"dtype\": \"number\",\n        \"std\": 43223.36437948609,\n        \"min\": 0.0,\n        \"max\": 533639.0,\n        \"num_unique_values\": 2955,\n        \"samples\": [\n          35.0,\n          2025.0,\n          4763.0\n        ],\n        \"semantic_type\": \"\",\n        \"description\": \"\"\n      }\n    },\n    {\n      \"column\": \"tot_e_Rx_thru_stand_alone\",\n      \"properties\": {\n        \"dtype\": \"number\",\n        \"std\": 7059.623144391724,\n        \"min\": 1.0,\n        \"max\": 80641.0,\n        \"num_unique_values\": 1771,\n        \"samples\": [\n          1640.0,\n          812.0,\n          574.0\n        ],\n        \"semantic_type\": \"\",\n        \"description\": \"\"\n      }\n    },\n    {\n      \"column\": \"tot_primary_care_e_Rx\",\n      \"properties\": {\n        \"dtype\": \"number\",\n        \"std\": 21370.324233212188,\n        \"min\": 0.0,\n        \"max\": 218703.0,\n        \"num_unique_values\": 1958,\n        \"samples\": [\n          594.0,\n          2937.0,\n          8553.0\n        ],\n        \"semantic_type\": \"\",\n        \"description\": \"\"\n      }\n    },\n    {\n      \"column\": \"tot_non_primary_care_e_Rx\",\n      \"properties\": {\n        \"dtype\": \"number\",\n        \"std\": 35634.916826462744,\n        \"min\": 1.0,\n        \"max\": 361981.0,\n        \"num_unique_values\": 2085,\n        \"samples\": [\n          1803.0,\n          5252.0,\n          1577.0\n        ],\n        \"semantic_type\": \"\",\n        \"description\": \"\"\n      }\n    },\n    {\n      \"column\": \"tot_nurse_prac_e_Rx\",\n      \"properties\": {\n        \"dtype\": \"number\",\n        \"std\": 6665.473263904402,\n        \"min\": 0.0,\n        \"max\": 73231.0,\n        \"num_unique_values\": 1426,\n        \"samples\": [\n          864.0,\n          875.0,\n          1578.0\n        ],\n        \"semantic_type\": \"\",\n        \"description\": \"\"\n      }\n    },\n    {\n      \"column\": \"tot_phys_asst_e_Rx\",\n      \"properties\": {\n        \"dtype\": \"number\",\n        \"std\": 3789.449309842255,\n        \"min\": 0.0,\n        \"max\": 41725.0,\n        \"num_unique_values\": 1088,\n        \"samples\": [\n          1783.0,\n          71.0,\n          652.0\n        ],\n        \"semantic_type\": \"\",\n        \"description\": \"\"\n      }\n    },\n    {\n      \"column\": \"pct_new_renewal_e_Rx\",\n      \"properties\": {\n        \"dtype\": \"number\",\n        \"std\": 0.2147007141100205,\n        \"min\": 0.0,\n        \"max\": 0.89,\n        \"num_unique_values\": 75,\n        \"samples\": [\n          0.52,\n          0.42,\n          0.33\n        ],\n        \"semantic_type\": \"\",\n        \"description\": \"\"\n      }\n    },\n    {\n      \"column\": \"tot_med_hist_reqs\",\n      \"properties\": {\n        \"dtype\": \"number\",\n        \"std\": 6374540.400451117,\n        \"min\": 572.0,\n        \"max\": 68035616.0,\n        \"num_unique_values\": 2268,\n        \"samples\": [\n          614243.0,\n          149300.0,\n          636143.0\n        ],\n        \"semantic_type\": \"\",\n        \"description\": \"\"\n      }\n    },\n    {\n      \"column\": \"tot_med_hist_req_resps\",\n      \"properties\": {\n        \"dtype\": \"number\",\n        \"std\": 5814947.839057696,\n        \"min\": 261.0,\n        \"max\": 63605406.0,\n        \"num_unique_values\": 2266,\n        \"samples\": [\n          551815.0,\n          294420.0,\n          387879.0\n        ],\n        \"semantic_type\": \"\",\n        \"description\": \"\"\n      }\n    },\n    {\n      \"column\": \"pct_pharm_enabled\",\n      \"properties\": {\n        \"dtype\": \"number\",\n        \"std\": 0.0995315466556771,\n        \"min\": 0.0,\n        \"max\": 1.0,\n        \"num_unique_values\": 40,\n        \"samples\": [\n          0.68,\n          0.81,\n          0.69\n        ],\n        \"semantic_type\": \"\",\n        \"description\": \"\"\n      }\n    },\n    {\n      \"column\": \"pct_pharm_e_Rx\",\n      \"properties\": {\n        \"dtype\": \"number\",\n        \"std\": 0.12132629589969546,\n        \"min\": 0.0,\n        \"max\": 1.0,\n        \"num_unique_values\": 70,\n        \"samples\": [\n          0.91,\n          0.69,\n          0.13\n        ],\n        \"semantic_type\": \"\",\n        \"description\": \"\"\n      }\n    }\n  ]\n}"
            }
          },
          "metadata": {},
          "execution_count": 68
        }
      ]
    },
    {
      "cell_type": "code",
      "source": [
        "data.info()\n"
      ],
      "metadata": {
        "colab": {
          "base_uri": "https://localhost:8080/"
        },
        "id": "LXLg8PzwTWq7",
        "outputId": "bd1ec63d-8969-4091-b0aa-666cc7fb016a"
      },
      "execution_count": 69,
      "outputs": [
        {
          "output_type": "stream",
          "name": "stdout",
          "text": [
            "<class 'pandas.core.frame.DataFrame'>\n",
            "RangeIndex: 3824 entries, 0 to 3823\n",
            "Data columns (total 15 columns):\n",
            " #   Column                     Non-Null Count  Dtype  \n",
            "---  ------                     --------------  -----  \n",
            " 0   region                     3824 non-null   object \n",
            " 1   region_code                3824 non-null   object \n",
            " 2   period                     3824 non-null   object \n",
            " 3   tot_e_Rx                   3511 non-null   float64\n",
            " 4   tot_e_Rx_thru_ehr          3511 non-null   float64\n",
            " 5   tot_e_Rx_thru_stand_alone  3511 non-null   float64\n",
            " 6   tot_primary_care_e_Rx      2376 non-null   float64\n",
            " 7   tot_non_primary_care_e_Rx  2376 non-null   float64\n",
            " 8   tot_nurse_prac_e_Rx        2355 non-null   float64\n",
            " 9   tot_phys_asst_e_Rx         2355 non-null   float64\n",
            " 10  pct_new_renewal_e_Rx       311 non-null    float64\n",
            " 11  tot_med_hist_reqs          2268 non-null   float64\n",
            " 12  tot_med_hist_req_resps     2268 non-null   float64\n",
            " 13  pct_pharm_enabled          2355 non-null   float64\n",
            " 14  pct_pharm_e_Rx             3448 non-null   float64\n",
            "dtypes: float64(12), object(3)\n",
            "memory usage: 448.2+ KB\n"
          ]
        }
      ]
    },
    {
      "cell_type": "code",
      "source": [
        "data.isnull().sum()"
      ],
      "metadata": {
        "colab": {
          "base_uri": "https://localhost:8080/"
        },
        "id": "FTdKj98XLNx7",
        "outputId": "be08e37b-116b-48a0-8146-f759bfce7472"
      },
      "execution_count": 70,
      "outputs": [
        {
          "output_type": "execute_result",
          "data": {
            "text/plain": [
              "region                          0\n",
              "region_code                     0\n",
              "period                          0\n",
              "tot_e_Rx                      313\n",
              "tot_e_Rx_thru_ehr             313\n",
              "tot_e_Rx_thru_stand_alone     313\n",
              "tot_primary_care_e_Rx        1448\n",
              "tot_non_primary_care_e_Rx    1448\n",
              "tot_nurse_prac_e_Rx          1469\n",
              "tot_phys_asst_e_Rx           1469\n",
              "pct_new_renewal_e_Rx         3513\n",
              "tot_med_hist_reqs            1556\n",
              "tot_med_hist_req_resps       1556\n",
              "pct_pharm_enabled            1469\n",
              "pct_pharm_e_Rx                376\n",
              "dtype: int64"
            ]
          },
          "metadata": {},
          "execution_count": 70
        }
      ]
    },
    {
      "cell_type": "code",
      "source": [
        "data.columns"
      ],
      "metadata": {
        "colab": {
          "base_uri": "https://localhost:8080/"
        },
        "id": "3HK-krJ_ekUX",
        "outputId": "8fe7589c-e73c-4571-927b-073a8f14c806"
      },
      "execution_count": 71,
      "outputs": [
        {
          "output_type": "execute_result",
          "data": {
            "text/plain": [
              "Index(['region', 'region_code', 'period', 'tot_e_Rx', 'tot_e_Rx_thru_ehr',\n",
              "       'tot_e_Rx_thru_stand_alone', 'tot_primary_care_e_Rx',\n",
              "       'tot_non_primary_care_e_Rx', 'tot_nurse_prac_e_Rx',\n",
              "       'tot_phys_asst_e_Rx', 'pct_new_renewal_e_Rx', 'tot_med_hist_reqs',\n",
              "       'tot_med_hist_req_resps', 'pct_pharm_enabled', 'pct_pharm_e_Rx'],\n",
              "      dtype='object')"
            ]
          },
          "metadata": {},
          "execution_count": 71
        }
      ]
    },
    {
      "cell_type": "code",
      "source": [
        "new_list = ['tot_e_Rx', 'tot_e_Rx_thru_ehr',\n",
        "       'tot_e_Rx_thru_stand_alone', 'tot_primary_care_e_Rx',\n",
        "       'tot_non_primary_care_e_Rx', 'tot_nurse_prac_e_Rx',\n",
        "       'tot_phys_asst_e_Rx', 'pct_new_renewal_e_Rx', 'tot_med_hist_reqs',\n",
        "       'tot_med_hist_req_resps', 'pct_pharm_enabled', 'pct_pharm_e_Rx']\n",
        "\n",
        "\n",
        "health_record = data[new_list]"
      ],
      "metadata": {
        "id": "7iuWCuTKT-eA"
      },
      "execution_count": 72,
      "outputs": []
    },
    {
      "cell_type": "markdown",
      "source": [
        "Initialize a KNN imputation model and fill in the missing values."
      ],
      "metadata": {
        "id": "sZnqLP8Pes9F"
      }
    },
    {
      "cell_type": "code",
      "source": [
        "#Create a KNN imputer for missing imputation.\n",
        "from  sklearn.impute import KNNImputer\n",
        "\n",
        "impKNN = KNNImputer(n_neighbors=5)\n",
        "newvalues = impKNN.fit_transform(health_record)"
      ],
      "metadata": {
        "id": "47kTime7e8uY"
      },
      "execution_count": 73,
      "outputs": []
    },
    {
      "cell_type": "code",
      "source": [
        "true_records = pd.DataFrame(newvalues, columns=new_list, index=health_record.index)"
      ],
      "metadata": {
        "id": "rDUCmfBNfZNz"
      },
      "execution_count": 74,
      "outputs": []
    },
    {
      "cell_type": "code",
      "source": [
        "true_records.isnull().sum()"
      ],
      "metadata": {
        "colab": {
          "base_uri": "https://localhost:8080/"
        },
        "id": "zsJUpa-jgt_q",
        "outputId": "96f76ebe-8a52-4aa4-956a-3043b1f2fea8"
      },
      "execution_count": 75,
      "outputs": [
        {
          "output_type": "execute_result",
          "data": {
            "text/plain": [
              "tot_e_Rx                     0\n",
              "tot_e_Rx_thru_ehr            0\n",
              "tot_e_Rx_thru_stand_alone    0\n",
              "tot_primary_care_e_Rx        0\n",
              "tot_non_primary_care_e_Rx    0\n",
              "tot_nurse_prac_e_Rx          0\n",
              "tot_phys_asst_e_Rx           0\n",
              "pct_new_renewal_e_Rx         0\n",
              "tot_med_hist_reqs            0\n",
              "tot_med_hist_req_resps       0\n",
              "pct_pharm_enabled            0\n",
              "pct_pharm_e_Rx               0\n",
              "dtype: int64"
            ]
          },
          "metadata": {},
          "execution_count": 75
        }
      ]
    },
    {
      "cell_type": "code",
      "source": [
        "data.columns"
      ],
      "metadata": {
        "colab": {
          "base_uri": "https://localhost:8080/"
        },
        "id": "gvsCsDMQhg2E",
        "outputId": "11d64a96-8315-427a-ee1a-ebb80c51e8ec"
      },
      "execution_count": 76,
      "outputs": [
        {
          "output_type": "execute_result",
          "data": {
            "text/plain": [
              "Index(['region', 'region_code', 'period', 'tot_e_Rx', 'tot_e_Rx_thru_ehr',\n",
              "       'tot_e_Rx_thru_stand_alone', 'tot_primary_care_e_Rx',\n",
              "       'tot_non_primary_care_e_Rx', 'tot_nurse_prac_e_Rx',\n",
              "       'tot_phys_asst_e_Rx', 'pct_new_renewal_e_Rx', 'tot_med_hist_reqs',\n",
              "       'tot_med_hist_req_resps', 'pct_pharm_enabled', 'pct_pharm_e_Rx'],\n",
              "      dtype='object')"
            ]
          },
          "metadata": {},
          "execution_count": 76
        }
      ]
    },
    {
      "cell_type": "code",
      "source": [
        "data_merge = data[[\"region\", \"region_code\", \"period\"]]\n",
        "data_merge.head()"
      ],
      "metadata": {
        "colab": {
          "base_uri": "https://localhost:8080/",
          "height": 206
        },
        "id": "MUqDoRdjj1F6",
        "outputId": "6ccbe0f7-a18b-4220-d115-edf834ed88b3"
      },
      "execution_count": 77,
      "outputs": [
        {
          "output_type": "execute_result",
          "data": {
            "text/plain": [
              "     region region_code period\n",
              "0  National          US   2008\n",
              "1  National          US   2009\n",
              "2  National          US   2010\n",
              "3  National          US   2011\n",
              "4  National          US   2012"
            ],
            "text/html": [
              "\n",
              "  <div id=\"df-7f68caba-d64e-4e65-85d1-249e6a5633d7\" class=\"colab-df-container\">\n",
              "    <div>\n",
              "<style scoped>\n",
              "    .dataframe tbody tr th:only-of-type {\n",
              "        vertical-align: middle;\n",
              "    }\n",
              "\n",
              "    .dataframe tbody tr th {\n",
              "        vertical-align: top;\n",
              "    }\n",
              "\n",
              "    .dataframe thead th {\n",
              "        text-align: right;\n",
              "    }\n",
              "</style>\n",
              "<table border=\"1\" class=\"dataframe\">\n",
              "  <thead>\n",
              "    <tr style=\"text-align: right;\">\n",
              "      <th></th>\n",
              "      <th>region</th>\n",
              "      <th>region_code</th>\n",
              "      <th>period</th>\n",
              "    </tr>\n",
              "  </thead>\n",
              "  <tbody>\n",
              "    <tr>\n",
              "      <th>0</th>\n",
              "      <td>National</td>\n",
              "      <td>US</td>\n",
              "      <td>2008</td>\n",
              "    </tr>\n",
              "    <tr>\n",
              "      <th>1</th>\n",
              "      <td>National</td>\n",
              "      <td>US</td>\n",
              "      <td>2009</td>\n",
              "    </tr>\n",
              "    <tr>\n",
              "      <th>2</th>\n",
              "      <td>National</td>\n",
              "      <td>US</td>\n",
              "      <td>2010</td>\n",
              "    </tr>\n",
              "    <tr>\n",
              "      <th>3</th>\n",
              "      <td>National</td>\n",
              "      <td>US</td>\n",
              "      <td>2011</td>\n",
              "    </tr>\n",
              "    <tr>\n",
              "      <th>4</th>\n",
              "      <td>National</td>\n",
              "      <td>US</td>\n",
              "      <td>2012</td>\n",
              "    </tr>\n",
              "  </tbody>\n",
              "</table>\n",
              "</div>\n",
              "    <div class=\"colab-df-buttons\">\n",
              "\n",
              "  <div class=\"colab-df-container\">\n",
              "    <button class=\"colab-df-convert\" onclick=\"convertToInteractive('df-7f68caba-d64e-4e65-85d1-249e6a5633d7')\"\n",
              "            title=\"Convert this dataframe to an interactive table.\"\n",
              "            style=\"display:none;\">\n",
              "\n",
              "  <svg xmlns=\"http://www.w3.org/2000/svg\" height=\"24px\" viewBox=\"0 -960 960 960\">\n",
              "    <path d=\"M120-120v-720h720v720H120Zm60-500h600v-160H180v160Zm220 220h160v-160H400v160Zm0 220h160v-160H400v160ZM180-400h160v-160H180v160Zm440 0h160v-160H620v160ZM180-180h160v-160H180v160Zm440 0h160v-160H620v160Z\"/>\n",
              "  </svg>\n",
              "    </button>\n",
              "\n",
              "  <style>\n",
              "    .colab-df-container {\n",
              "      display:flex;\n",
              "      gap: 12px;\n",
              "    }\n",
              "\n",
              "    .colab-df-convert {\n",
              "      background-color: #E8F0FE;\n",
              "      border: none;\n",
              "      border-radius: 50%;\n",
              "      cursor: pointer;\n",
              "      display: none;\n",
              "      fill: #1967D2;\n",
              "      height: 32px;\n",
              "      padding: 0 0 0 0;\n",
              "      width: 32px;\n",
              "    }\n",
              "\n",
              "    .colab-df-convert:hover {\n",
              "      background-color: #E2EBFA;\n",
              "      box-shadow: 0px 1px 2px rgba(60, 64, 67, 0.3), 0px 1px 3px 1px rgba(60, 64, 67, 0.15);\n",
              "      fill: #174EA6;\n",
              "    }\n",
              "\n",
              "    .colab-df-buttons div {\n",
              "      margin-bottom: 4px;\n",
              "    }\n",
              "\n",
              "    [theme=dark] .colab-df-convert {\n",
              "      background-color: #3B4455;\n",
              "      fill: #D2E3FC;\n",
              "    }\n",
              "\n",
              "    [theme=dark] .colab-df-convert:hover {\n",
              "      background-color: #434B5C;\n",
              "      box-shadow: 0px 1px 3px 1px rgba(0, 0, 0, 0.15);\n",
              "      filter: drop-shadow(0px 1px 2px rgba(0, 0, 0, 0.3));\n",
              "      fill: #FFFFFF;\n",
              "    }\n",
              "  </style>\n",
              "\n",
              "    <script>\n",
              "      const buttonEl =\n",
              "        document.querySelector('#df-7f68caba-d64e-4e65-85d1-249e6a5633d7 button.colab-df-convert');\n",
              "      buttonEl.style.display =\n",
              "        google.colab.kernel.accessAllowed ? 'block' : 'none';\n",
              "\n",
              "      async function convertToInteractive(key) {\n",
              "        const element = document.querySelector('#df-7f68caba-d64e-4e65-85d1-249e6a5633d7');\n",
              "        const dataTable =\n",
              "          await google.colab.kernel.invokeFunction('convertToInteractive',\n",
              "                                                    [key], {});\n",
              "        if (!dataTable) return;\n",
              "\n",
              "        const docLinkHtml = 'Like what you see? Visit the ' +\n",
              "          '<a target=\"_blank\" href=https://colab.research.google.com/notebooks/data_table.ipynb>data table notebook</a>'\n",
              "          + ' to learn more about interactive tables.';\n",
              "        element.innerHTML = '';\n",
              "        dataTable['output_type'] = 'display_data';\n",
              "        await google.colab.output.renderOutput(dataTable, element);\n",
              "        const docLink = document.createElement('div');\n",
              "        docLink.innerHTML = docLinkHtml;\n",
              "        element.appendChild(docLink);\n",
              "      }\n",
              "    </script>\n",
              "  </div>\n",
              "\n",
              "\n",
              "<div id=\"df-2f468ed1-b351-44d3-aaaa-1d53ed2f2cf5\">\n",
              "  <button class=\"colab-df-quickchart\" onclick=\"quickchart('df-2f468ed1-b351-44d3-aaaa-1d53ed2f2cf5')\"\n",
              "            title=\"Suggest charts\"\n",
              "            style=\"display:none;\">\n",
              "\n",
              "<svg xmlns=\"http://www.w3.org/2000/svg\" height=\"24px\"viewBox=\"0 0 24 24\"\n",
              "     width=\"24px\">\n",
              "    <g>\n",
              "        <path d=\"M19 3H5c-1.1 0-2 .9-2 2v14c0 1.1.9 2 2 2h14c1.1 0 2-.9 2-2V5c0-1.1-.9-2-2-2zM9 17H7v-7h2v7zm4 0h-2V7h2v10zm4 0h-2v-4h2v4z\"/>\n",
              "    </g>\n",
              "</svg>\n",
              "  </button>\n",
              "\n",
              "<style>\n",
              "  .colab-df-quickchart {\n",
              "      --bg-color: #E8F0FE;\n",
              "      --fill-color: #1967D2;\n",
              "      --hover-bg-color: #E2EBFA;\n",
              "      --hover-fill-color: #174EA6;\n",
              "      --disabled-fill-color: #AAA;\n",
              "      --disabled-bg-color: #DDD;\n",
              "  }\n",
              "\n",
              "  [theme=dark] .colab-df-quickchart {\n",
              "      --bg-color: #3B4455;\n",
              "      --fill-color: #D2E3FC;\n",
              "      --hover-bg-color: #434B5C;\n",
              "      --hover-fill-color: #FFFFFF;\n",
              "      --disabled-bg-color: #3B4455;\n",
              "      --disabled-fill-color: #666;\n",
              "  }\n",
              "\n",
              "  .colab-df-quickchart {\n",
              "    background-color: var(--bg-color);\n",
              "    border: none;\n",
              "    border-radius: 50%;\n",
              "    cursor: pointer;\n",
              "    display: none;\n",
              "    fill: var(--fill-color);\n",
              "    height: 32px;\n",
              "    padding: 0;\n",
              "    width: 32px;\n",
              "  }\n",
              "\n",
              "  .colab-df-quickchart:hover {\n",
              "    background-color: var(--hover-bg-color);\n",
              "    box-shadow: 0 1px 2px rgba(60, 64, 67, 0.3), 0 1px 3px 1px rgba(60, 64, 67, 0.15);\n",
              "    fill: var(--button-hover-fill-color);\n",
              "  }\n",
              "\n",
              "  .colab-df-quickchart-complete:disabled,\n",
              "  .colab-df-quickchart-complete:disabled:hover {\n",
              "    background-color: var(--disabled-bg-color);\n",
              "    fill: var(--disabled-fill-color);\n",
              "    box-shadow: none;\n",
              "  }\n",
              "\n",
              "  .colab-df-spinner {\n",
              "    border: 2px solid var(--fill-color);\n",
              "    border-color: transparent;\n",
              "    border-bottom-color: var(--fill-color);\n",
              "    animation:\n",
              "      spin 1s steps(1) infinite;\n",
              "  }\n",
              "\n",
              "  @keyframes spin {\n",
              "    0% {\n",
              "      border-color: transparent;\n",
              "      border-bottom-color: var(--fill-color);\n",
              "      border-left-color: var(--fill-color);\n",
              "    }\n",
              "    20% {\n",
              "      border-color: transparent;\n",
              "      border-left-color: var(--fill-color);\n",
              "      border-top-color: var(--fill-color);\n",
              "    }\n",
              "    30% {\n",
              "      border-color: transparent;\n",
              "      border-left-color: var(--fill-color);\n",
              "      border-top-color: var(--fill-color);\n",
              "      border-right-color: var(--fill-color);\n",
              "    }\n",
              "    40% {\n",
              "      border-color: transparent;\n",
              "      border-right-color: var(--fill-color);\n",
              "      border-top-color: var(--fill-color);\n",
              "    }\n",
              "    60% {\n",
              "      border-color: transparent;\n",
              "      border-right-color: var(--fill-color);\n",
              "    }\n",
              "    80% {\n",
              "      border-color: transparent;\n",
              "      border-right-color: var(--fill-color);\n",
              "      border-bottom-color: var(--fill-color);\n",
              "    }\n",
              "    90% {\n",
              "      border-color: transparent;\n",
              "      border-bottom-color: var(--fill-color);\n",
              "    }\n",
              "  }\n",
              "</style>\n",
              "\n",
              "  <script>\n",
              "    async function quickchart(key) {\n",
              "      const quickchartButtonEl =\n",
              "        document.querySelector('#' + key + ' button');\n",
              "      quickchartButtonEl.disabled = true;  // To prevent multiple clicks.\n",
              "      quickchartButtonEl.classList.add('colab-df-spinner');\n",
              "      try {\n",
              "        const charts = await google.colab.kernel.invokeFunction(\n",
              "            'suggestCharts', [key], {});\n",
              "      } catch (error) {\n",
              "        console.error('Error during call to suggestCharts:', error);\n",
              "      }\n",
              "      quickchartButtonEl.classList.remove('colab-df-spinner');\n",
              "      quickchartButtonEl.classList.add('colab-df-quickchart-complete');\n",
              "    }\n",
              "    (() => {\n",
              "      let quickchartButtonEl =\n",
              "        document.querySelector('#df-2f468ed1-b351-44d3-aaaa-1d53ed2f2cf5 button');\n",
              "      quickchartButtonEl.style.display =\n",
              "        google.colab.kernel.accessAllowed ? 'block' : 'none';\n",
              "    })();\n",
              "  </script>\n",
              "</div>\n",
              "\n",
              "    </div>\n",
              "  </div>\n"
            ],
            "application/vnd.google.colaboratory.intrinsic+json": {
              "type": "dataframe",
              "variable_name": "data_merge",
              "summary": "{\n  \"name\": \"data_merge\",\n  \"rows\": 3824,\n  \"fields\": [\n    {\n      \"column\": \"region\",\n      \"properties\": {\n        \"dtype\": \"category\",\n        \"num_unique_values\": 54,\n        \"samples\": [\n          \"Louisiana\",\n          \"Vermont\",\n          \"Virgin Islands\"\n        ],\n        \"semantic_type\": \"\",\n        \"description\": \"\"\n      }\n    },\n    {\n      \"column\": \"region_code\",\n      \"properties\": {\n        \"dtype\": \"category\",\n        \"num_unique_values\": 54,\n        \"samples\": [\n          \"LA\",\n          \"VT\",\n          \"VI\"\n        ],\n        \"semantic_type\": \"\",\n        \"description\": \"\"\n      }\n    },\n    {\n      \"column\": \"period\",\n      \"properties\": {\n        \"dtype\": \"category\",\n        \"num_unique_values\": 71,\n        \"samples\": [\n          \"2010-04\",\n          \"2008\",\n          \"2012-07\"\n        ],\n        \"semantic_type\": \"\",\n        \"description\": \"\"\n      }\n    }\n  ]\n}"
            }
          },
          "metadata": {},
          "execution_count": 77
        }
      ]
    },
    {
      "cell_type": "code",
      "source": [
        "data_merge"
      ],
      "metadata": {
        "colab": {
          "base_uri": "https://localhost:8080/",
          "height": 423
        },
        "id": "Lijr2ZlNlZnb",
        "outputId": "3759831d-15db-4092-d053-e68fb77f88a7"
      },
      "execution_count": 78,
      "outputs": [
        {
          "output_type": "execute_result",
          "data": {
            "text/plain": [
              "        region region_code   period\n",
              "0     National          US     2008\n",
              "1     National          US     2009\n",
              "2     National          US     2010\n",
              "3     National          US     2011\n",
              "4     National          US     2012\n",
              "...        ...         ...      ...\n",
              "3819   Wyoming          WY  2013-12\n",
              "3820   Wyoming          WY  2014-01\n",
              "3821   Wyoming          WY  2014-02\n",
              "3822   Wyoming          WY  2014-03\n",
              "3823   Wyoming          WY  2014-04\n",
              "\n",
              "[3824 rows x 3 columns]"
            ],
            "text/html": [
              "\n",
              "  <div id=\"df-f7c3b250-8a0b-493e-b198-c230f3a9516d\" class=\"colab-df-container\">\n",
              "    <div>\n",
              "<style scoped>\n",
              "    .dataframe tbody tr th:only-of-type {\n",
              "        vertical-align: middle;\n",
              "    }\n",
              "\n",
              "    .dataframe tbody tr th {\n",
              "        vertical-align: top;\n",
              "    }\n",
              "\n",
              "    .dataframe thead th {\n",
              "        text-align: right;\n",
              "    }\n",
              "</style>\n",
              "<table border=\"1\" class=\"dataframe\">\n",
              "  <thead>\n",
              "    <tr style=\"text-align: right;\">\n",
              "      <th></th>\n",
              "      <th>region</th>\n",
              "      <th>region_code</th>\n",
              "      <th>period</th>\n",
              "    </tr>\n",
              "  </thead>\n",
              "  <tbody>\n",
              "    <tr>\n",
              "      <th>0</th>\n",
              "      <td>National</td>\n",
              "      <td>US</td>\n",
              "      <td>2008</td>\n",
              "    </tr>\n",
              "    <tr>\n",
              "      <th>1</th>\n",
              "      <td>National</td>\n",
              "      <td>US</td>\n",
              "      <td>2009</td>\n",
              "    </tr>\n",
              "    <tr>\n",
              "      <th>2</th>\n",
              "      <td>National</td>\n",
              "      <td>US</td>\n",
              "      <td>2010</td>\n",
              "    </tr>\n",
              "    <tr>\n",
              "      <th>3</th>\n",
              "      <td>National</td>\n",
              "      <td>US</td>\n",
              "      <td>2011</td>\n",
              "    </tr>\n",
              "    <tr>\n",
              "      <th>4</th>\n",
              "      <td>National</td>\n",
              "      <td>US</td>\n",
              "      <td>2012</td>\n",
              "    </tr>\n",
              "    <tr>\n",
              "      <th>...</th>\n",
              "      <td>...</td>\n",
              "      <td>...</td>\n",
              "      <td>...</td>\n",
              "    </tr>\n",
              "    <tr>\n",
              "      <th>3819</th>\n",
              "      <td>Wyoming</td>\n",
              "      <td>WY</td>\n",
              "      <td>2013-12</td>\n",
              "    </tr>\n",
              "    <tr>\n",
              "      <th>3820</th>\n",
              "      <td>Wyoming</td>\n",
              "      <td>WY</td>\n",
              "      <td>2014-01</td>\n",
              "    </tr>\n",
              "    <tr>\n",
              "      <th>3821</th>\n",
              "      <td>Wyoming</td>\n",
              "      <td>WY</td>\n",
              "      <td>2014-02</td>\n",
              "    </tr>\n",
              "    <tr>\n",
              "      <th>3822</th>\n",
              "      <td>Wyoming</td>\n",
              "      <td>WY</td>\n",
              "      <td>2014-03</td>\n",
              "    </tr>\n",
              "    <tr>\n",
              "      <th>3823</th>\n",
              "      <td>Wyoming</td>\n",
              "      <td>WY</td>\n",
              "      <td>2014-04</td>\n",
              "    </tr>\n",
              "  </tbody>\n",
              "</table>\n",
              "<p>3824 rows × 3 columns</p>\n",
              "</div>\n",
              "    <div class=\"colab-df-buttons\">\n",
              "\n",
              "  <div class=\"colab-df-container\">\n",
              "    <button class=\"colab-df-convert\" onclick=\"convertToInteractive('df-f7c3b250-8a0b-493e-b198-c230f3a9516d')\"\n",
              "            title=\"Convert this dataframe to an interactive table.\"\n",
              "            style=\"display:none;\">\n",
              "\n",
              "  <svg xmlns=\"http://www.w3.org/2000/svg\" height=\"24px\" viewBox=\"0 -960 960 960\">\n",
              "    <path d=\"M120-120v-720h720v720H120Zm60-500h600v-160H180v160Zm220 220h160v-160H400v160Zm0 220h160v-160H400v160ZM180-400h160v-160H180v160Zm440 0h160v-160H620v160ZM180-180h160v-160H180v160Zm440 0h160v-160H620v160Z\"/>\n",
              "  </svg>\n",
              "    </button>\n",
              "\n",
              "  <style>\n",
              "    .colab-df-container {\n",
              "      display:flex;\n",
              "      gap: 12px;\n",
              "    }\n",
              "\n",
              "    .colab-df-convert {\n",
              "      background-color: #E8F0FE;\n",
              "      border: none;\n",
              "      border-radius: 50%;\n",
              "      cursor: pointer;\n",
              "      display: none;\n",
              "      fill: #1967D2;\n",
              "      height: 32px;\n",
              "      padding: 0 0 0 0;\n",
              "      width: 32px;\n",
              "    }\n",
              "\n",
              "    .colab-df-convert:hover {\n",
              "      background-color: #E2EBFA;\n",
              "      box-shadow: 0px 1px 2px rgba(60, 64, 67, 0.3), 0px 1px 3px 1px rgba(60, 64, 67, 0.15);\n",
              "      fill: #174EA6;\n",
              "    }\n",
              "\n",
              "    .colab-df-buttons div {\n",
              "      margin-bottom: 4px;\n",
              "    }\n",
              "\n",
              "    [theme=dark] .colab-df-convert {\n",
              "      background-color: #3B4455;\n",
              "      fill: #D2E3FC;\n",
              "    }\n",
              "\n",
              "    [theme=dark] .colab-df-convert:hover {\n",
              "      background-color: #434B5C;\n",
              "      box-shadow: 0px 1px 3px 1px rgba(0, 0, 0, 0.15);\n",
              "      filter: drop-shadow(0px 1px 2px rgba(0, 0, 0, 0.3));\n",
              "      fill: #FFFFFF;\n",
              "    }\n",
              "  </style>\n",
              "\n",
              "    <script>\n",
              "      const buttonEl =\n",
              "        document.querySelector('#df-f7c3b250-8a0b-493e-b198-c230f3a9516d button.colab-df-convert');\n",
              "      buttonEl.style.display =\n",
              "        google.colab.kernel.accessAllowed ? 'block' : 'none';\n",
              "\n",
              "      async function convertToInteractive(key) {\n",
              "        const element = document.querySelector('#df-f7c3b250-8a0b-493e-b198-c230f3a9516d');\n",
              "        const dataTable =\n",
              "          await google.colab.kernel.invokeFunction('convertToInteractive',\n",
              "                                                    [key], {});\n",
              "        if (!dataTable) return;\n",
              "\n",
              "        const docLinkHtml = 'Like what you see? Visit the ' +\n",
              "          '<a target=\"_blank\" href=https://colab.research.google.com/notebooks/data_table.ipynb>data table notebook</a>'\n",
              "          + ' to learn more about interactive tables.';\n",
              "        element.innerHTML = '';\n",
              "        dataTable['output_type'] = 'display_data';\n",
              "        await google.colab.output.renderOutput(dataTable, element);\n",
              "        const docLink = document.createElement('div');\n",
              "        docLink.innerHTML = docLinkHtml;\n",
              "        element.appendChild(docLink);\n",
              "      }\n",
              "    </script>\n",
              "  </div>\n",
              "\n",
              "\n",
              "<div id=\"df-8162986a-0b44-4ee6-ab68-d09c36ddb343\">\n",
              "  <button class=\"colab-df-quickchart\" onclick=\"quickchart('df-8162986a-0b44-4ee6-ab68-d09c36ddb343')\"\n",
              "            title=\"Suggest charts\"\n",
              "            style=\"display:none;\">\n",
              "\n",
              "<svg xmlns=\"http://www.w3.org/2000/svg\" height=\"24px\"viewBox=\"0 0 24 24\"\n",
              "     width=\"24px\">\n",
              "    <g>\n",
              "        <path d=\"M19 3H5c-1.1 0-2 .9-2 2v14c0 1.1.9 2 2 2h14c1.1 0 2-.9 2-2V5c0-1.1-.9-2-2-2zM9 17H7v-7h2v7zm4 0h-2V7h2v10zm4 0h-2v-4h2v4z\"/>\n",
              "    </g>\n",
              "</svg>\n",
              "  </button>\n",
              "\n",
              "<style>\n",
              "  .colab-df-quickchart {\n",
              "      --bg-color: #E8F0FE;\n",
              "      --fill-color: #1967D2;\n",
              "      --hover-bg-color: #E2EBFA;\n",
              "      --hover-fill-color: #174EA6;\n",
              "      --disabled-fill-color: #AAA;\n",
              "      --disabled-bg-color: #DDD;\n",
              "  }\n",
              "\n",
              "  [theme=dark] .colab-df-quickchart {\n",
              "      --bg-color: #3B4455;\n",
              "      --fill-color: #D2E3FC;\n",
              "      --hover-bg-color: #434B5C;\n",
              "      --hover-fill-color: #FFFFFF;\n",
              "      --disabled-bg-color: #3B4455;\n",
              "      --disabled-fill-color: #666;\n",
              "  }\n",
              "\n",
              "  .colab-df-quickchart {\n",
              "    background-color: var(--bg-color);\n",
              "    border: none;\n",
              "    border-radius: 50%;\n",
              "    cursor: pointer;\n",
              "    display: none;\n",
              "    fill: var(--fill-color);\n",
              "    height: 32px;\n",
              "    padding: 0;\n",
              "    width: 32px;\n",
              "  }\n",
              "\n",
              "  .colab-df-quickchart:hover {\n",
              "    background-color: var(--hover-bg-color);\n",
              "    box-shadow: 0 1px 2px rgba(60, 64, 67, 0.3), 0 1px 3px 1px rgba(60, 64, 67, 0.15);\n",
              "    fill: var(--button-hover-fill-color);\n",
              "  }\n",
              "\n",
              "  .colab-df-quickchart-complete:disabled,\n",
              "  .colab-df-quickchart-complete:disabled:hover {\n",
              "    background-color: var(--disabled-bg-color);\n",
              "    fill: var(--disabled-fill-color);\n",
              "    box-shadow: none;\n",
              "  }\n",
              "\n",
              "  .colab-df-spinner {\n",
              "    border: 2px solid var(--fill-color);\n",
              "    border-color: transparent;\n",
              "    border-bottom-color: var(--fill-color);\n",
              "    animation:\n",
              "      spin 1s steps(1) infinite;\n",
              "  }\n",
              "\n",
              "  @keyframes spin {\n",
              "    0% {\n",
              "      border-color: transparent;\n",
              "      border-bottom-color: var(--fill-color);\n",
              "      border-left-color: var(--fill-color);\n",
              "    }\n",
              "    20% {\n",
              "      border-color: transparent;\n",
              "      border-left-color: var(--fill-color);\n",
              "      border-top-color: var(--fill-color);\n",
              "    }\n",
              "    30% {\n",
              "      border-color: transparent;\n",
              "      border-left-color: var(--fill-color);\n",
              "      border-top-color: var(--fill-color);\n",
              "      border-right-color: var(--fill-color);\n",
              "    }\n",
              "    40% {\n",
              "      border-color: transparent;\n",
              "      border-right-color: var(--fill-color);\n",
              "      border-top-color: var(--fill-color);\n",
              "    }\n",
              "    60% {\n",
              "      border-color: transparent;\n",
              "      border-right-color: var(--fill-color);\n",
              "    }\n",
              "    80% {\n",
              "      border-color: transparent;\n",
              "      border-right-color: var(--fill-color);\n",
              "      border-bottom-color: var(--fill-color);\n",
              "    }\n",
              "    90% {\n",
              "      border-color: transparent;\n",
              "      border-bottom-color: var(--fill-color);\n",
              "    }\n",
              "  }\n",
              "</style>\n",
              "\n",
              "  <script>\n",
              "    async function quickchart(key) {\n",
              "      const quickchartButtonEl =\n",
              "        document.querySelector('#' + key + ' button');\n",
              "      quickchartButtonEl.disabled = true;  // To prevent multiple clicks.\n",
              "      quickchartButtonEl.classList.add('colab-df-spinner');\n",
              "      try {\n",
              "        const charts = await google.colab.kernel.invokeFunction(\n",
              "            'suggestCharts', [key], {});\n",
              "      } catch (error) {\n",
              "        console.error('Error during call to suggestCharts:', error);\n",
              "      }\n",
              "      quickchartButtonEl.classList.remove('colab-df-spinner');\n",
              "      quickchartButtonEl.classList.add('colab-df-quickchart-complete');\n",
              "    }\n",
              "    (() => {\n",
              "      let quickchartButtonEl =\n",
              "        document.querySelector('#df-8162986a-0b44-4ee6-ab68-d09c36ddb343 button');\n",
              "      quickchartButtonEl.style.display =\n",
              "        google.colab.kernel.accessAllowed ? 'block' : 'none';\n",
              "    })();\n",
              "  </script>\n",
              "</div>\n",
              "\n",
              "  <div id=\"id_126e03c8-60fc-4fbe-8b69-8d4792be1d04\">\n",
              "    <style>\n",
              "      .colab-df-generate {\n",
              "        background-color: #E8F0FE;\n",
              "        border: none;\n",
              "        border-radius: 50%;\n",
              "        cursor: pointer;\n",
              "        display: none;\n",
              "        fill: #1967D2;\n",
              "        height: 32px;\n",
              "        padding: 0 0 0 0;\n",
              "        width: 32px;\n",
              "      }\n",
              "\n",
              "      .colab-df-generate:hover {\n",
              "        background-color: #E2EBFA;\n",
              "        box-shadow: 0px 1px 2px rgba(60, 64, 67, 0.3), 0px 1px 3px 1px rgba(60, 64, 67, 0.15);\n",
              "        fill: #174EA6;\n",
              "      }\n",
              "\n",
              "      [theme=dark] .colab-df-generate {\n",
              "        background-color: #3B4455;\n",
              "        fill: #D2E3FC;\n",
              "      }\n",
              "\n",
              "      [theme=dark] .colab-df-generate:hover {\n",
              "        background-color: #434B5C;\n",
              "        box-shadow: 0px 1px 3px 1px rgba(0, 0, 0, 0.15);\n",
              "        filter: drop-shadow(0px 1px 2px rgba(0, 0, 0, 0.3));\n",
              "        fill: #FFFFFF;\n",
              "      }\n",
              "    </style>\n",
              "    <button class=\"colab-df-generate\" onclick=\"generateWithVariable('data_merge')\"\n",
              "            title=\"Generate code using this dataframe.\"\n",
              "            style=\"display:none;\">\n",
              "\n",
              "  <svg xmlns=\"http://www.w3.org/2000/svg\" height=\"24px\"viewBox=\"0 0 24 24\"\n",
              "       width=\"24px\">\n",
              "    <path d=\"M7,19H8.4L18.45,9,17,7.55,7,17.6ZM5,21V16.75L18.45,3.32a2,2,0,0,1,2.83,0l1.4,1.43a1.91,1.91,0,0,1,.58,1.4,1.91,1.91,0,0,1-.58,1.4L9.25,21ZM18.45,9,17,7.55Zm-12,3A5.31,5.31,0,0,0,4.9,8.1,5.31,5.31,0,0,0,1,6.5,5.31,5.31,0,0,0,4.9,4.9,5.31,5.31,0,0,0,6.5,1,5.31,5.31,0,0,0,8.1,4.9,5.31,5.31,0,0,0,12,6.5,5.46,5.46,0,0,0,6.5,12Z\"/>\n",
              "  </svg>\n",
              "    </button>\n",
              "    <script>\n",
              "      (() => {\n",
              "      const buttonEl =\n",
              "        document.querySelector('#id_126e03c8-60fc-4fbe-8b69-8d4792be1d04 button.colab-df-generate');\n",
              "      buttonEl.style.display =\n",
              "        google.colab.kernel.accessAllowed ? 'block' : 'none';\n",
              "\n",
              "      buttonEl.onclick = () => {\n",
              "        google.colab.notebook.generateWithVariable('data_merge');\n",
              "      }\n",
              "      })();\n",
              "    </script>\n",
              "  </div>\n",
              "\n",
              "    </div>\n",
              "  </div>\n"
            ],
            "application/vnd.google.colaboratory.intrinsic+json": {
              "type": "dataframe",
              "variable_name": "data_merge",
              "summary": "{\n  \"name\": \"data_merge\",\n  \"rows\": 3824,\n  \"fields\": [\n    {\n      \"column\": \"region\",\n      \"properties\": {\n        \"dtype\": \"category\",\n        \"num_unique_values\": 54,\n        \"samples\": [\n          \"Louisiana\",\n          \"Vermont\",\n          \"Virgin Islands\"\n        ],\n        \"semantic_type\": \"\",\n        \"description\": \"\"\n      }\n    },\n    {\n      \"column\": \"region_code\",\n      \"properties\": {\n        \"dtype\": \"category\",\n        \"num_unique_values\": 54,\n        \"samples\": [\n          \"LA\",\n          \"VT\",\n          \"VI\"\n        ],\n        \"semantic_type\": \"\",\n        \"description\": \"\"\n      }\n    },\n    {\n      \"column\": \"period\",\n      \"properties\": {\n        \"dtype\": \"category\",\n        \"num_unique_values\": 71,\n        \"samples\": [\n          \"2010-04\",\n          \"2008\",\n          \"2012-07\"\n        ],\n        \"semantic_type\": \"\",\n        \"description\": \"\"\n      }\n    }\n  ]\n}"
            }
          },
          "metadata": {},
          "execution_count": 78
        }
      ]
    },
    {
      "cell_type": "code",
      "source": [
        "%%capture\n",
        "data_merge[new_list] = true_records[new_list]"
      ],
      "metadata": {
        "id": "aQ3dS1PtmpDU"
      },
      "execution_count": 79,
      "outputs": []
    },
    {
      "cell_type": "code",
      "source": [
        "data_merge.head()"
      ],
      "metadata": {
        "colab": {
          "base_uri": "https://localhost:8080/",
          "height": 226
        },
        "id": "w_cwC8Cimqzs",
        "outputId": "fae764eb-9d92-425c-d26f-ea57c1684bd8"
      },
      "execution_count": 80,
      "outputs": [
        {
          "output_type": "execute_result",
          "data": {
            "text/plain": [
              "     region region_code period      tot_e_Rx  tot_e_Rx_thru_ehr  \\\n",
              "0  National          US   2008  12363.852179       10401.082313   \n",
              "1  National          US   2009  12363.852179       10401.082313   \n",
              "2  National          US   2010  12363.852179       10401.082313   \n",
              "3  National          US   2011  12363.852179       10401.082313   \n",
              "4  National          US   2012  12363.852179       10401.082313   \n",
              "\n",
              "   tot_e_Rx_thru_stand_alone  tot_primary_care_e_Rx  \\\n",
              "0                1856.611222            5702.324074   \n",
              "1                1856.611222            5702.324074   \n",
              "2                1856.611222            5702.324074   \n",
              "3                1856.611222            5702.324074   \n",
              "4                1856.611222            5702.324074   \n",
              "\n",
              "   tot_non_primary_care_e_Rx  tot_nurse_prac_e_Rx  tot_phys_asst_e_Rx  \\\n",
              "0                9377.476431          1755.573248           988.95966   \n",
              "1                9377.476431          1755.573248           988.95966   \n",
              "2                9377.476431          1755.573248           988.95966   \n",
              "3                9377.476431          1755.573248           988.95966   \n",
              "4                9377.476431          1755.573248           988.95966   \n",
              "\n",
              "   pct_new_renewal_e_Rx  tot_med_hist_reqs  tot_med_hist_req_resps  \\\n",
              "0                  0.04       1.674085e+06            1.521452e+06   \n",
              "1                  0.11       1.674085e+06            1.521452e+06   \n",
              "2                  0.19       1.674085e+06            1.521452e+06   \n",
              "3                  0.32       1.674085e+06            1.521452e+06   \n",
              "4                  0.52       1.674085e+06            1.521452e+06   \n",
              "\n",
              "   pct_pharm_enabled  pct_pharm_e_Rx  \n",
              "0           0.923168        0.872094  \n",
              "1           0.923168        0.872094  \n",
              "2           0.923168        0.872094  \n",
              "3           0.923168        0.872094  \n",
              "4           0.923168        0.872094  "
            ],
            "text/html": [
              "\n",
              "  <div id=\"df-a434459b-6446-4823-9b1e-1a0a94f352c8\" class=\"colab-df-container\">\n",
              "    <div>\n",
              "<style scoped>\n",
              "    .dataframe tbody tr th:only-of-type {\n",
              "        vertical-align: middle;\n",
              "    }\n",
              "\n",
              "    .dataframe tbody tr th {\n",
              "        vertical-align: top;\n",
              "    }\n",
              "\n",
              "    .dataframe thead th {\n",
              "        text-align: right;\n",
              "    }\n",
              "</style>\n",
              "<table border=\"1\" class=\"dataframe\">\n",
              "  <thead>\n",
              "    <tr style=\"text-align: right;\">\n",
              "      <th></th>\n",
              "      <th>region</th>\n",
              "      <th>region_code</th>\n",
              "      <th>period</th>\n",
              "      <th>tot_e_Rx</th>\n",
              "      <th>tot_e_Rx_thru_ehr</th>\n",
              "      <th>tot_e_Rx_thru_stand_alone</th>\n",
              "      <th>tot_primary_care_e_Rx</th>\n",
              "      <th>tot_non_primary_care_e_Rx</th>\n",
              "      <th>tot_nurse_prac_e_Rx</th>\n",
              "      <th>tot_phys_asst_e_Rx</th>\n",
              "      <th>pct_new_renewal_e_Rx</th>\n",
              "      <th>tot_med_hist_reqs</th>\n",
              "      <th>tot_med_hist_req_resps</th>\n",
              "      <th>pct_pharm_enabled</th>\n",
              "      <th>pct_pharm_e_Rx</th>\n",
              "    </tr>\n",
              "  </thead>\n",
              "  <tbody>\n",
              "    <tr>\n",
              "      <th>0</th>\n",
              "      <td>National</td>\n",
              "      <td>US</td>\n",
              "      <td>2008</td>\n",
              "      <td>12363.852179</td>\n",
              "      <td>10401.082313</td>\n",
              "      <td>1856.611222</td>\n",
              "      <td>5702.324074</td>\n",
              "      <td>9377.476431</td>\n",
              "      <td>1755.573248</td>\n",
              "      <td>988.95966</td>\n",
              "      <td>0.04</td>\n",
              "      <td>1.674085e+06</td>\n",
              "      <td>1.521452e+06</td>\n",
              "      <td>0.923168</td>\n",
              "      <td>0.872094</td>\n",
              "    </tr>\n",
              "    <tr>\n",
              "      <th>1</th>\n",
              "      <td>National</td>\n",
              "      <td>US</td>\n",
              "      <td>2009</td>\n",
              "      <td>12363.852179</td>\n",
              "      <td>10401.082313</td>\n",
              "      <td>1856.611222</td>\n",
              "      <td>5702.324074</td>\n",
              "      <td>9377.476431</td>\n",
              "      <td>1755.573248</td>\n",
              "      <td>988.95966</td>\n",
              "      <td>0.11</td>\n",
              "      <td>1.674085e+06</td>\n",
              "      <td>1.521452e+06</td>\n",
              "      <td>0.923168</td>\n",
              "      <td>0.872094</td>\n",
              "    </tr>\n",
              "    <tr>\n",
              "      <th>2</th>\n",
              "      <td>National</td>\n",
              "      <td>US</td>\n",
              "      <td>2010</td>\n",
              "      <td>12363.852179</td>\n",
              "      <td>10401.082313</td>\n",
              "      <td>1856.611222</td>\n",
              "      <td>5702.324074</td>\n",
              "      <td>9377.476431</td>\n",
              "      <td>1755.573248</td>\n",
              "      <td>988.95966</td>\n",
              "      <td>0.19</td>\n",
              "      <td>1.674085e+06</td>\n",
              "      <td>1.521452e+06</td>\n",
              "      <td>0.923168</td>\n",
              "      <td>0.872094</td>\n",
              "    </tr>\n",
              "    <tr>\n",
              "      <th>3</th>\n",
              "      <td>National</td>\n",
              "      <td>US</td>\n",
              "      <td>2011</td>\n",
              "      <td>12363.852179</td>\n",
              "      <td>10401.082313</td>\n",
              "      <td>1856.611222</td>\n",
              "      <td>5702.324074</td>\n",
              "      <td>9377.476431</td>\n",
              "      <td>1755.573248</td>\n",
              "      <td>988.95966</td>\n",
              "      <td>0.32</td>\n",
              "      <td>1.674085e+06</td>\n",
              "      <td>1.521452e+06</td>\n",
              "      <td>0.923168</td>\n",
              "      <td>0.872094</td>\n",
              "    </tr>\n",
              "    <tr>\n",
              "      <th>4</th>\n",
              "      <td>National</td>\n",
              "      <td>US</td>\n",
              "      <td>2012</td>\n",
              "      <td>12363.852179</td>\n",
              "      <td>10401.082313</td>\n",
              "      <td>1856.611222</td>\n",
              "      <td>5702.324074</td>\n",
              "      <td>9377.476431</td>\n",
              "      <td>1755.573248</td>\n",
              "      <td>988.95966</td>\n",
              "      <td>0.52</td>\n",
              "      <td>1.674085e+06</td>\n",
              "      <td>1.521452e+06</td>\n",
              "      <td>0.923168</td>\n",
              "      <td>0.872094</td>\n",
              "    </tr>\n",
              "  </tbody>\n",
              "</table>\n",
              "</div>\n",
              "    <div class=\"colab-df-buttons\">\n",
              "\n",
              "  <div class=\"colab-df-container\">\n",
              "    <button class=\"colab-df-convert\" onclick=\"convertToInteractive('df-a434459b-6446-4823-9b1e-1a0a94f352c8')\"\n",
              "            title=\"Convert this dataframe to an interactive table.\"\n",
              "            style=\"display:none;\">\n",
              "\n",
              "  <svg xmlns=\"http://www.w3.org/2000/svg\" height=\"24px\" viewBox=\"0 -960 960 960\">\n",
              "    <path d=\"M120-120v-720h720v720H120Zm60-500h600v-160H180v160Zm220 220h160v-160H400v160Zm0 220h160v-160H400v160ZM180-400h160v-160H180v160Zm440 0h160v-160H620v160ZM180-180h160v-160H180v160Zm440 0h160v-160H620v160Z\"/>\n",
              "  </svg>\n",
              "    </button>\n",
              "\n",
              "  <style>\n",
              "    .colab-df-container {\n",
              "      display:flex;\n",
              "      gap: 12px;\n",
              "    }\n",
              "\n",
              "    .colab-df-convert {\n",
              "      background-color: #E8F0FE;\n",
              "      border: none;\n",
              "      border-radius: 50%;\n",
              "      cursor: pointer;\n",
              "      display: none;\n",
              "      fill: #1967D2;\n",
              "      height: 32px;\n",
              "      padding: 0 0 0 0;\n",
              "      width: 32px;\n",
              "    }\n",
              "\n",
              "    .colab-df-convert:hover {\n",
              "      background-color: #E2EBFA;\n",
              "      box-shadow: 0px 1px 2px rgba(60, 64, 67, 0.3), 0px 1px 3px 1px rgba(60, 64, 67, 0.15);\n",
              "      fill: #174EA6;\n",
              "    }\n",
              "\n",
              "    .colab-df-buttons div {\n",
              "      margin-bottom: 4px;\n",
              "    }\n",
              "\n",
              "    [theme=dark] .colab-df-convert {\n",
              "      background-color: #3B4455;\n",
              "      fill: #D2E3FC;\n",
              "    }\n",
              "\n",
              "    [theme=dark] .colab-df-convert:hover {\n",
              "      background-color: #434B5C;\n",
              "      box-shadow: 0px 1px 3px 1px rgba(0, 0, 0, 0.15);\n",
              "      filter: drop-shadow(0px 1px 2px rgba(0, 0, 0, 0.3));\n",
              "      fill: #FFFFFF;\n",
              "    }\n",
              "  </style>\n",
              "\n",
              "    <script>\n",
              "      const buttonEl =\n",
              "        document.querySelector('#df-a434459b-6446-4823-9b1e-1a0a94f352c8 button.colab-df-convert');\n",
              "      buttonEl.style.display =\n",
              "        google.colab.kernel.accessAllowed ? 'block' : 'none';\n",
              "\n",
              "      async function convertToInteractive(key) {\n",
              "        const element = document.querySelector('#df-a434459b-6446-4823-9b1e-1a0a94f352c8');\n",
              "        const dataTable =\n",
              "          await google.colab.kernel.invokeFunction('convertToInteractive',\n",
              "                                                    [key], {});\n",
              "        if (!dataTable) return;\n",
              "\n",
              "        const docLinkHtml = 'Like what you see? Visit the ' +\n",
              "          '<a target=\"_blank\" href=https://colab.research.google.com/notebooks/data_table.ipynb>data table notebook</a>'\n",
              "          + ' to learn more about interactive tables.';\n",
              "        element.innerHTML = '';\n",
              "        dataTable['output_type'] = 'display_data';\n",
              "        await google.colab.output.renderOutput(dataTable, element);\n",
              "        const docLink = document.createElement('div');\n",
              "        docLink.innerHTML = docLinkHtml;\n",
              "        element.appendChild(docLink);\n",
              "      }\n",
              "    </script>\n",
              "  </div>\n",
              "\n",
              "\n",
              "<div id=\"df-21289186-ec74-4932-b9c6-64ac5e19228a\">\n",
              "  <button class=\"colab-df-quickchart\" onclick=\"quickchart('df-21289186-ec74-4932-b9c6-64ac5e19228a')\"\n",
              "            title=\"Suggest charts\"\n",
              "            style=\"display:none;\">\n",
              "\n",
              "<svg xmlns=\"http://www.w3.org/2000/svg\" height=\"24px\"viewBox=\"0 0 24 24\"\n",
              "     width=\"24px\">\n",
              "    <g>\n",
              "        <path d=\"M19 3H5c-1.1 0-2 .9-2 2v14c0 1.1.9 2 2 2h14c1.1 0 2-.9 2-2V5c0-1.1-.9-2-2-2zM9 17H7v-7h2v7zm4 0h-2V7h2v10zm4 0h-2v-4h2v4z\"/>\n",
              "    </g>\n",
              "</svg>\n",
              "  </button>\n",
              "\n",
              "<style>\n",
              "  .colab-df-quickchart {\n",
              "      --bg-color: #E8F0FE;\n",
              "      --fill-color: #1967D2;\n",
              "      --hover-bg-color: #E2EBFA;\n",
              "      --hover-fill-color: #174EA6;\n",
              "      --disabled-fill-color: #AAA;\n",
              "      --disabled-bg-color: #DDD;\n",
              "  }\n",
              "\n",
              "  [theme=dark] .colab-df-quickchart {\n",
              "      --bg-color: #3B4455;\n",
              "      --fill-color: #D2E3FC;\n",
              "      --hover-bg-color: #434B5C;\n",
              "      --hover-fill-color: #FFFFFF;\n",
              "      --disabled-bg-color: #3B4455;\n",
              "      --disabled-fill-color: #666;\n",
              "  }\n",
              "\n",
              "  .colab-df-quickchart {\n",
              "    background-color: var(--bg-color);\n",
              "    border: none;\n",
              "    border-radius: 50%;\n",
              "    cursor: pointer;\n",
              "    display: none;\n",
              "    fill: var(--fill-color);\n",
              "    height: 32px;\n",
              "    padding: 0;\n",
              "    width: 32px;\n",
              "  }\n",
              "\n",
              "  .colab-df-quickchart:hover {\n",
              "    background-color: var(--hover-bg-color);\n",
              "    box-shadow: 0 1px 2px rgba(60, 64, 67, 0.3), 0 1px 3px 1px rgba(60, 64, 67, 0.15);\n",
              "    fill: var(--button-hover-fill-color);\n",
              "  }\n",
              "\n",
              "  .colab-df-quickchart-complete:disabled,\n",
              "  .colab-df-quickchart-complete:disabled:hover {\n",
              "    background-color: var(--disabled-bg-color);\n",
              "    fill: var(--disabled-fill-color);\n",
              "    box-shadow: none;\n",
              "  }\n",
              "\n",
              "  .colab-df-spinner {\n",
              "    border: 2px solid var(--fill-color);\n",
              "    border-color: transparent;\n",
              "    border-bottom-color: var(--fill-color);\n",
              "    animation:\n",
              "      spin 1s steps(1) infinite;\n",
              "  }\n",
              "\n",
              "  @keyframes spin {\n",
              "    0% {\n",
              "      border-color: transparent;\n",
              "      border-bottom-color: var(--fill-color);\n",
              "      border-left-color: var(--fill-color);\n",
              "    }\n",
              "    20% {\n",
              "      border-color: transparent;\n",
              "      border-left-color: var(--fill-color);\n",
              "      border-top-color: var(--fill-color);\n",
              "    }\n",
              "    30% {\n",
              "      border-color: transparent;\n",
              "      border-left-color: var(--fill-color);\n",
              "      border-top-color: var(--fill-color);\n",
              "      border-right-color: var(--fill-color);\n",
              "    }\n",
              "    40% {\n",
              "      border-color: transparent;\n",
              "      border-right-color: var(--fill-color);\n",
              "      border-top-color: var(--fill-color);\n",
              "    }\n",
              "    60% {\n",
              "      border-color: transparent;\n",
              "      border-right-color: var(--fill-color);\n",
              "    }\n",
              "    80% {\n",
              "      border-color: transparent;\n",
              "      border-right-color: var(--fill-color);\n",
              "      border-bottom-color: var(--fill-color);\n",
              "    }\n",
              "    90% {\n",
              "      border-color: transparent;\n",
              "      border-bottom-color: var(--fill-color);\n",
              "    }\n",
              "  }\n",
              "</style>\n",
              "\n",
              "  <script>\n",
              "    async function quickchart(key) {\n",
              "      const quickchartButtonEl =\n",
              "        document.querySelector('#' + key + ' button');\n",
              "      quickchartButtonEl.disabled = true;  // To prevent multiple clicks.\n",
              "      quickchartButtonEl.classList.add('colab-df-spinner');\n",
              "      try {\n",
              "        const charts = await google.colab.kernel.invokeFunction(\n",
              "            'suggestCharts', [key], {});\n",
              "      } catch (error) {\n",
              "        console.error('Error during call to suggestCharts:', error);\n",
              "      }\n",
              "      quickchartButtonEl.classList.remove('colab-df-spinner');\n",
              "      quickchartButtonEl.classList.add('colab-df-quickchart-complete');\n",
              "    }\n",
              "    (() => {\n",
              "      let quickchartButtonEl =\n",
              "        document.querySelector('#df-21289186-ec74-4932-b9c6-64ac5e19228a button');\n",
              "      quickchartButtonEl.style.display =\n",
              "        google.colab.kernel.accessAllowed ? 'block' : 'none';\n",
              "    })();\n",
              "  </script>\n",
              "</div>\n",
              "\n",
              "    </div>\n",
              "  </div>\n"
            ],
            "application/vnd.google.colaboratory.intrinsic+json": {
              "type": "dataframe",
              "variable_name": "data_merge",
              "summary": "{\n  \"name\": \"data_merge\",\n  \"rows\": 3824,\n  \"fields\": [\n    {\n      \"column\": \"region\",\n      \"properties\": {\n        \"dtype\": \"category\",\n        \"num_unique_values\": 54,\n        \"samples\": [\n          \"Louisiana\",\n          \"Vermont\",\n          \"Virgin Islands\"\n        ],\n        \"semantic_type\": \"\",\n        \"description\": \"\"\n      }\n    },\n    {\n      \"column\": \"region_code\",\n      \"properties\": {\n        \"dtype\": \"category\",\n        \"num_unique_values\": 54,\n        \"samples\": [\n          \"LA\",\n          \"VT\",\n          \"VI\"\n        ],\n        \"semantic_type\": \"\",\n        \"description\": \"\"\n      }\n    },\n    {\n      \"column\": \"period\",\n      \"properties\": {\n        \"dtype\": \"category\",\n        \"num_unique_values\": 71,\n        \"samples\": [\n          \"2010-04\",\n          \"2008\",\n          \"2012-07\"\n        ],\n        \"semantic_type\": \"\",\n        \"description\": \"\"\n      }\n    },\n    {\n      \"column\": \"tot_e_Rx\",\n      \"properties\": {\n        \"dtype\": \"number\",\n        \"std\": 47998.02429858095,\n        \"min\": 3.0,\n        \"max\": 582397.0,\n        \"num_unique_values\": 3013,\n        \"samples\": [\n          7053.0,\n          24357.0,\n          20481.0\n        ],\n        \"semantic_type\": \"\",\n        \"description\": \"\"\n      }\n    },\n    {\n      \"column\": \"tot_e_Rx_thru_ehr\",\n      \"properties\": {\n        \"dtype\": \"number\",\n        \"std\": 41416.17406964202,\n        \"min\": 0.0,\n        \"max\": 533639.0,\n        \"num_unique_values\": 2956,\n        \"samples\": [\n          551.0,\n          24876.0,\n          2717.0\n        ],\n        \"semantic_type\": \"\",\n        \"description\": \"\"\n      }\n    },\n    {\n      \"column\": \"tot_e_Rx_thru_stand_alone\",\n      \"properties\": {\n        \"dtype\": \"number\",\n        \"std\": 6764.456798114647,\n        \"min\": 1.0,\n        \"max\": 80641.0,\n        \"num_unique_values\": 1772,\n        \"samples\": [\n          126.0,\n          680.0,\n          324.0\n        ],\n        \"semantic_type\": \"\",\n        \"description\": \"\"\n      }\n    },\n    {\n      \"column\": \"tot_primary_care_e_Rx\",\n      \"properties\": {\n        \"dtype\": \"number\",\n        \"std\": 17641.23362758625,\n        \"min\": 0.0,\n        \"max\": 218703.0,\n        \"num_unique_values\": 2701,\n        \"samples\": [\n          2015.0,\n          1141.0,\n          551.0\n        ],\n        \"semantic_type\": \"\",\n        \"description\": \"\"\n      }\n    },\n    {\n      \"column\": \"tot_non_primary_care_e_Rx\",\n      \"properties\": {\n        \"dtype\": \"number\",\n        \"std\": 29013.369498959204,\n        \"min\": 1.0,\n        \"max\": 361981.0,\n        \"num_unique_values\": 2855,\n        \"samples\": [\n          2496.0,\n          407.2,\n          841.0\n        ],\n        \"semantic_type\": \"\",\n        \"description\": \"\"\n      }\n    },\n    {\n      \"column\": \"tot_nurse_prac_e_Rx\",\n      \"properties\": {\n        \"dtype\": \"number\",\n        \"std\": 5415.145357915899,\n        \"min\": 0.0,\n        \"max\": 73231.0,\n        \"num_unique_values\": 2083,\n        \"samples\": [\n          945.8,\n          2275.0,\n          190.0\n        ],\n        \"semantic_type\": \"\",\n        \"description\": \"\"\n      }\n    },\n    {\n      \"column\": \"tot_phys_asst_e_Rx\",\n      \"properties\": {\n        \"dtype\": \"number\",\n        \"std\": 3066.4196538340434,\n        \"min\": 0.0,\n        \"max\": 41725.0,\n        \"num_unique_values\": 1654,\n        \"samples\": [\n          3.8,\n          30.2,\n          261.0\n        ],\n        \"semantic_type\": \"\",\n        \"description\": \"\"\n      }\n    },\n    {\n      \"column\": \"pct_new_renewal_e_Rx\",\n      \"properties\": {\n        \"dtype\": \"number\",\n        \"std\": 0.06113813503778424,\n        \"min\": 0.0,\n        \"max\": 0.89,\n        \"num_unique_values\": 76,\n        \"samples\": [\n          0.52,\n          0.58,\n          0.23\n        ],\n        \"semantic_type\": \"\",\n        \"description\": \"\"\n      }\n    },\n    {\n      \"column\": \"tot_med_hist_reqs\",\n      \"properties\": {\n        \"dtype\": \"number\",\n        \"std\": 5085648.582015724,\n        \"min\": 572.0,\n        \"max\": 68035616.0,\n        \"num_unique_values\": 3149,\n        \"samples\": [\n          946299.0,\n          1892534.0,\n          140154.0\n        ],\n        \"semantic_type\": \"\",\n        \"description\": \"\"\n      }\n    },\n    {\n      \"column\": \"tot_med_hist_req_resps\",\n      \"properties\": {\n        \"dtype\": \"number\",\n        \"std\": 4631639.716222883,\n        \"min\": 261.0,\n        \"max\": 63605406.0,\n        \"num_unique_values\": 3146,\n        \"samples\": [\n          826136.0,\n          1564237.0,\n          106284.0\n        ],\n        \"semantic_type\": \"\",\n        \"description\": \"\"\n      }\n    },\n    {\n      \"column\": \"pct_pharm_enabled\",\n      \"properties\": {\n        \"dtype\": \"number\",\n        \"std\": 0.13051719356924515,\n        \"min\": 0.0,\n        \"max\": 1.0,\n        \"num_unique_values\": 213,\n        \"samples\": [\n          0.86,\n          0.8940000000000001,\n          0.8760000000000001\n        ],\n        \"semantic_type\": \"\",\n        \"description\": \"\"\n      }\n    },\n    {\n      \"column\": \"pct_pharm_e_Rx\",\n      \"properties\": {\n        \"dtype\": \"number\",\n        \"std\": 0.14278014266062422,\n        \"min\": 0.0,\n        \"max\": 1.0,\n        \"num_unique_values\": 93,\n        \"samples\": [\n          0.59,\n          0.9,\n          0.21\n        ],\n        \"semantic_type\": \"\",\n        \"description\": \"\"\n      }\n    }\n  ]\n}"
            }
          },
          "metadata": {},
          "execution_count": 80
        }
      ]
    },
    {
      "cell_type": "markdown",
      "source": [
        "All missing values are filled in the dataset."
      ],
      "metadata": {
        "id": "Fqu3wcjtp0im"
      }
    },
    {
      "cell_type": "code",
      "source": [
        "data_merge.isnull().sum()"
      ],
      "metadata": {
        "colab": {
          "base_uri": "https://localhost:8080/"
        },
        "id": "Go7O8SNWpkiy",
        "outputId": "021994fc-f195-4926-edea-1267651cd48e"
      },
      "execution_count": 81,
      "outputs": [
        {
          "output_type": "execute_result",
          "data": {
            "text/plain": [
              "region                       0\n",
              "region_code                  0\n",
              "period                       0\n",
              "tot_e_Rx                     0\n",
              "tot_e_Rx_thru_ehr            0\n",
              "tot_e_Rx_thru_stand_alone    0\n",
              "tot_primary_care_e_Rx        0\n",
              "tot_non_primary_care_e_Rx    0\n",
              "tot_nurse_prac_e_Rx          0\n",
              "tot_phys_asst_e_Rx           0\n",
              "pct_new_renewal_e_Rx         0\n",
              "tot_med_hist_reqs            0\n",
              "tot_med_hist_req_resps       0\n",
              "pct_pharm_enabled            0\n",
              "pct_pharm_e_Rx               0\n",
              "dtype: int64"
            ]
          },
          "metadata": {},
          "execution_count": 81
        }
      ]
    },
    {
      "cell_type": "code",
      "source": [
        "data_merge.region.unique()"
      ],
      "metadata": {
        "colab": {
          "base_uri": "https://localhost:8080/"
        },
        "id": "w5gzPWrmpxiw",
        "outputId": "5a53d4e9-c627-4eec-cc8e-f2731f806d02"
      },
      "execution_count": 82,
      "outputs": [
        {
          "output_type": "execute_result",
          "data": {
            "text/plain": [
              "array(['National', 'Alaska', 'Alabama', 'Arkansas', 'Arizona',\n",
              "       'California', 'Colorado', 'Connecticut', 'District Of Columbia',\n",
              "       'Delaware', 'Florida', 'Georgia', 'Hawaii', 'Iowa', 'Idaho',\n",
              "       'Illinois', 'Indiana', 'Kansas', 'Kentucky', 'Louisiana',\n",
              "       'Massachusetts', 'Maryland', 'Maine', 'Michigan', 'Minnesota',\n",
              "       'Missouri', 'Mississippi', 'Montana', 'North Carolina',\n",
              "       'North Dakota', 'Nebraska', 'New Hampshire', 'New Jersey',\n",
              "       'New Mexico', 'Nevada', 'New York', 'Ohio', 'Oklahoma', 'Oregon',\n",
              "       'Pennsylvania', 'Puerto Rico', 'Rhode Island', 'South Carolina',\n",
              "       'South Dakota', 'Tennessee', 'Texas', 'Utah', 'Virginia',\n",
              "       'Virgin Islands', 'Vermont', 'Washington', 'Wisconsin',\n",
              "       'West Virginia', 'Wyoming'], dtype=object)"
            ]
          },
          "metadata": {},
          "execution_count": 82
        }
      ]
    },
    {
      "cell_type": "code",
      "source": [
        "data_merge.region_code.unique()"
      ],
      "metadata": {
        "colab": {
          "base_uri": "https://localhost:8080/"
        },
        "id": "9qAmEVRMWVee",
        "outputId": "11861f57-252d-46c9-fe9a-60a52ee4f112"
      },
      "execution_count": 83,
      "outputs": [
        {
          "output_type": "execute_result",
          "data": {
            "text/plain": [
              "array(['US', 'AK', 'AL', 'AR', 'AZ', 'CA', 'CO', 'CT', 'DC', 'DE', 'FL',\n",
              "       'GA', 'HI', 'IA', 'ID', 'IL', 'IN', 'KS', 'KY', 'LA', 'MA', 'MD',\n",
              "       'ME', 'MI', 'MN', 'MO', 'MS', 'MT', 'NC', 'ND', 'NE', 'NH', 'NJ',\n",
              "       'NM', 'NV', 'NY', 'OH', 'OK', 'OR', 'PA', 'PR', 'RI', 'SC', 'SD',\n",
              "       'TN', 'TX', 'UT', 'VA', 'VI', 'VT', 'WA', 'WI', 'WV', 'WY'],\n",
              "      dtype=object)"
            ]
          },
          "metadata": {},
          "execution_count": 83
        }
      ]
    },
    {
      "cell_type": "code",
      "source": [
        "X = data_merge.drop(['region','region_code', 'period'], axis = 1)\n",
        "y = data_merge['region_code']"
      ],
      "metadata": {
        "id": "5VaYb-OjZ8S8"
      },
      "execution_count": 84,
      "outputs": []
    },
    {
      "cell_type": "code",
      "source": [
        "X.shape"
      ],
      "metadata": {
        "colab": {
          "base_uri": "https://localhost:8080/"
        },
        "id": "xHRAsn3ZeV38",
        "outputId": "47653a4c-0b93-4f74-eb76-8a2dbb650565"
      },
      "execution_count": 85,
      "outputs": [
        {
          "output_type": "execute_result",
          "data": {
            "text/plain": [
              "(3824, 12)"
            ]
          },
          "metadata": {},
          "execution_count": 85
        }
      ]
    },
    {
      "cell_type": "code",
      "source": [
        "X_number_train =3059\n",
        "X_number_train"
      ],
      "metadata": {
        "colab": {
          "base_uri": "https://localhost:8080/"
        },
        "id": "mL2BYQfIcn3u",
        "outputId": "8a8c1f90-93d3-48a2-bc01-da53b49bb64e"
      },
      "execution_count": 86,
      "outputs": [
        {
          "output_type": "execute_result",
          "data": {
            "text/plain": [
              "3059"
            ]
          },
          "metadata": {},
          "execution_count": 86
        }
      ]
    },
    {
      "cell_type": "code",
      "source": [
        "X_train = X.iloc[:X_number_train]\n",
        "X_test = X.iloc[X_number_train:]"
      ],
      "metadata": {
        "id": "iII3FL7peTM8"
      },
      "execution_count": 87,
      "outputs": []
    },
    {
      "cell_type": "code",
      "source": [
        "from sklearn.preprocessing import MinMaxScaler\n",
        "scaler = MinMaxScaler()\n",
        "X_train_scaled = scaler.fit_transform(X_train)\n",
        "X_test_scaled = scaler.transform(X_test)"
      ],
      "metadata": {
        "id": "0VZXfiIrqOmo"
      },
      "execution_count": 88,
      "outputs": []
    },
    {
      "cell_type": "code",
      "source": [
        "X_train_scaled"
      ],
      "metadata": {
        "colab": {
          "base_uri": "https://localhost:8080/"
        },
        "id": "pEqwpnazWKFm",
        "outputId": "fdfe294c-ff31-4f0b-bee0-8c343d3944ab"
      },
      "execution_count": 89,
      "outputs": [
        {
          "output_type": "execute_result",
          "data": {
            "text/plain": [
              "array([[2.12242093e-02, 1.94908586e-02, 2.30110519e-02, ...,\n",
              "        2.39134430e-02, 9.32492655e-01, 8.80902997e-01],\n",
              "       [2.12242093e-02, 1.94908586e-02, 2.30110519e-02, ...,\n",
              "        2.39134430e-02, 9.32492655e-01, 8.80902997e-01],\n",
              "       [2.12242093e-02, 1.94908586e-02, 2.30110519e-02, ...,\n",
              "        2.39134430e-02, 9.32492655e-01, 8.80902997e-01],\n",
              "       ...,\n",
              "       [4.49867272e-04, 3.63541645e-04, 8.68055556e-04, ...,\n",
              "        1.81778255e-04, 8.54545455e-01, 5.95959596e-01],\n",
              "       [4.70471880e-04, 3.80406979e-04, 9.05257937e-04, ...,\n",
              "        1.81778255e-04, 9.09090909e-01, 6.06060606e-01],\n",
              "       [4.91076488e-04, 3.97272313e-04, 9.42460317e-04, ...,\n",
              "        1.97541175e-04, 9.09090909e-01, 6.16161616e-01]])"
            ]
          },
          "metadata": {},
          "execution_count": 89
        }
      ]
    },
    {
      "cell_type": "markdown",
      "source": [
        "### Finding optimum number of cluster\n",
        "\n"
      ],
      "metadata": {
        "id": "20i2zxGEixbB"
      }
    },
    {
      "cell_type": "markdown",
      "source": [
        "To finding the ideal number of groups to divide the data into is data stage in any unsupervised algorithm. One of the most common techniques figuring out this ideal value of K is the elbow approach."
      ],
      "metadata": {
        "id": "s9zoJ8eGkmuL"
      }
    },
    {
      "cell_type": "code",
      "source": [
        "%%capture\n",
        "sse = []    #Sum of squared error\n",
        "for K in range(1, 11):\n",
        "  km = KMeans(n_clusters=K, random_state=2)\n",
        "  km.fit(X_train_scaled)\n",
        "  sse.append(km.inertia_)"
      ],
      "metadata": {
        "id": "kcUIPcnvfbJC"
      },
      "execution_count": 95,
      "outputs": []
    },
    {
      "cell_type": "code",
      "source": [
        "sns.set_style(\"whitegrid\")\n",
        "g=sns.lineplot(x=range(1, 11), y=sse)\n",
        "g.set(xlabel = \"Number of clusters\",\n",
        "      ylabel = \"Sum of Squared Error\",\n",
        "      title = \"Elbow Method\")\n",
        "\n",
        "plt.show()"
      ],
      "metadata": {
        "colab": {
          "base_uri": "https://localhost:8080/",
          "height": 472
        },
        "id": "DApKL2h-hZP3",
        "outputId": "3947d4bd-7e4e-416b-a6f5-adb3712d1203"
      },
      "execution_count": 97,
      "outputs": [
        {
          "output_type": "display_data",
          "data": {
            "text/plain": [
              "<Figure size 640x480 with 1 Axes>"
            ],
            "image/png": "[encoded data removed]"
          },
          "metadata": {}
        }
      ]
    },
    {
      "cell_type": "markdown",
      "source": [
        "From the above graph, we can observe that k = 2 and k = 3 elbow-like situation. So, we are considering K=3"
      ],
      "metadata": {
        "id": "lzUaL-nqitDf"
      }
    },
    {
      "cell_type": "markdown",
      "source": [
        "Build the Kmeans clustering model"
      ],
      "metadata": {
        "id": "xzN9EcIElrxP"
      }
    },
    {
      "cell_type": "code",
      "source": [
        "\n",
        "kmeans = KMeans(n_clusters = 3, random_state = 2)\n",
        "kmeans.fit(X_train_scaled)\n"
      ],
      "metadata": {
        "colab": {
          "base_uri": "https://localhost:8080/",
          "height": 129
        },
        "id": "bzdRbGJnlzj4",
        "outputId": "153b2a72-b487-4e41-d0c4-460490f9c622"
      },
      "execution_count": 104,
      "outputs": [
        {
          "output_type": "stream",
          "name": "stderr",
          "text": [
            "/usr/local/lib/python3.10/dist-packages/sklearn/cluster/_kmeans.py:870: FutureWarning: The default value of `n_init` will change from 10 to 'auto' in 1.4. Set the value of `n_init` explicitly to suppress the warning\n",
            "  warnings.warn(\n"
          ]
        },
        {
          "output_type": "execute_result",
          "data": {
            "text/plain": [
              "KMeans(n_clusters=3, random_state=2)"
            ],
            "text/html": [
              "<style>#sk-container-id-3 {color: black;background-color: white;}#sk-container-id-3 pre{padding: 0;}#sk-container-id-3 div.sk-toggleable {background-color: white;}#sk-container-id-3 label.sk-toggleable__label {cursor: pointer;display: block;width: 100%;margin-bottom: 0;padding: 0.3em;box-sizing: border-box;text-align: center;}#sk-container-id-3 label.sk-toggleable__label-arrow:before {content: \"▸\";float: left;margin-right: 0.25em;color: #696969;}#sk-container-id-3 label.sk-toggleable__label-arrow:hover:before {color: black;}#sk-container-id-3 div.sk-estimator:hover label.sk-toggleable__label-arrow:before {color: black;}#sk-container-id-3 div.sk-toggleable__content {max-height: 0;max-width: 0;overflow: hidden;text-align: left;background-color: #f0f8ff;}#sk-container-id-3 div.sk-toggleable__content pre {margin: 0.2em;color: black;border-radius: 0.25em;background-color: #f0f8ff;}#sk-container-id-3 input.sk-toggleable__control:checked~div.sk-toggleable__content {max-height: 200px;max-width: 100%;overflow: auto;}#sk-container-id-3 input.sk-toggleable__control:checked~label.sk-toggleable__label-arrow:before {content: \"▾\";}#sk-container-id-3 div.sk-estimator input.sk-toggleable__control:checked~label.sk-toggleable__label {background-color: #d4ebff;}#sk-container-id-3 div.sk-label input.sk-toggleable__control:checked~label.sk-toggleable__label {background-color: #d4ebff;}#sk-container-id-3 input.sk-hidden--visually {border: 0;clip: rect(1px 1px 1px 1px);clip: rect(1px, 1px, 1px, 1px);height: 1px;margin: -1px;overflow: hidden;padding: 0;position: absolute;width: 1px;}#sk-container-id-3 div.sk-estimator {font-family: monospace;background-color: #f0f8ff;border: 1px dotted black;border-radius: 0.25em;box-sizing: border-box;margin-bottom: 0.5em;}#sk-container-id-3 div.sk-estimator:hover {background-color: #d4ebff;}#sk-container-id-3 div.sk-parallel-item::after {content: \"\";width: 100%;border-bottom: 1px solid gray;flex-grow: 1;}#sk-container-id-3 div.sk-label:hover label.sk-toggleable__label {background-color: #d4ebff;}#sk-container-id-3 div.sk-serial::before {content: \"\";position: absolute;border-left: 1px solid gray;box-sizing: border-box;top: 0;bottom: 0;left: 50%;z-index: 0;}#sk-container-id-3 div.sk-serial {display: flex;flex-direction: column;align-items: center;background-color: white;padding-right: 0.2em;padding-left: 0.2em;position: relative;}#sk-container-id-3 div.sk-item {position: relative;z-index: 1;}#sk-container-id-3 div.sk-parallel {display: flex;align-items: stretch;justify-content: center;background-color: white;position: relative;}#sk-container-id-3 div.sk-item::before, #sk-container-id-3 div.sk-parallel-item::before {content: \"\";position: absolute;border-left: 1px solid gray;box-sizing: border-box;top: 0;bottom: 0;left: 50%;z-index: -1;}#sk-container-id-3 div.sk-parallel-item {display: flex;flex-direction: column;z-index: 1;position: relative;background-color: white;}#sk-container-id-3 div.sk-parallel-item:first-child::after {align-self: flex-end;width: 50%;}#sk-container-id-3 div.sk-parallel-item:last-child::after {align-self: flex-start;width: 50%;}#sk-container-id-3 div.sk-parallel-item:only-child::after {width: 0;}#sk-container-id-3 div.sk-dashed-wrapped {border: 1px dashed gray;margin: 0 0.4em 0.5em 0.4em;box-sizing: border-box;padding-bottom: 0.4em;background-color: white;}#sk-container-id-3 div.sk-label label {font-family: monospace;font-weight: bold;display: inline-block;line-height: 1.2em;}#sk-container-id-3 div.sk-label-container {text-align: center;}#sk-container-id-3 div.sk-container {/* jupyter's `normalize.less` sets `[hidden] { display: none; }` but bootstrap.min.css set `[hidden] { display: none !important; }` so we also need the `!important` here to be able to override the default hidden behavior on the sphinx rendered scikit-learn.org. See: https://github.com/scikit-learn/scikit-learn/issues/21755 */display: inline-block !important;position: relative;}#sk-container-id-3 div.sk-text-repr-fallback {display: none;}</style><div id=\"sk-container-id-3\" class=\"sk-top-container\"><div class=\"sk-text-repr-fallback\"><pre>KMeans(n_clusters=3, random_state=2)</pre><b>In a Jupyter environment, please rerun this cell to show the HTML representation or trust the notebook. <br />On GitHub, the HTML representation is unable to render, please try loading this page with nbviewer.org.</b></div><div class=\"sk-container\" hidden><div class=\"sk-item\"><div class=\"sk-estimator sk-toggleable\"><input class=\"sk-toggleable__control sk-hidden--visually\" id=\"sk-estimator-id-3\" type=\"checkbox\" checked><label for=\"sk-estimator-id-3\" class=\"sk-toggleable__label sk-toggleable__label-arrow\">KMeans</label><div class=\"sk-toggleable__content\"><pre>KMeans(n_clusters=3, random_state=2)</pre></div></div></div></div></div>"
            ]
          },
          "metadata": {},
          "execution_count": 104
        }
      ]
    },
    {
      "cell_type": "code",
      "source": [
        "kmeans.cluster_centers_"
      ],
      "metadata": {
        "colab": {
          "base_uri": "https://localhost:8080/"
        },
        "id": "sajbSET0mLG4",
        "outputId": "5038a1a4-4665-41b3-9fc6-e69a0a6a8765"
      },
      "execution_count": 102,
      "outputs": [
        {
          "output_type": "execute_result",
          "data": {
            "text/plain": [
              "array([[6.07835932e-05, 3.18567421e-05, 2.40575397e-04, 5.98991317e-05,\n",
              "        5.04447760e-05, 5.99017720e-05, 1.80547234e-05, 3.28154919e-01,\n",
              "        1.75714886e-05, 1.63486183e-05, 1.16700337e-01, 1.66599327e-01],\n",
              "       [6.81887245e-01, 6.32792993e-01, 6.99545387e-01, 6.78703691e-01,\n",
              "        6.64458887e-01, 6.12452322e-01, 6.01942433e-01, 3.28154919e-01,\n",
              "        6.12452375e-01, 5.93759674e-01, 9.36525253e-01, 9.22424242e-01],\n",
              "       [1.31428025e-02, 1.19065297e-02, 1.52514680e-02, 1.31240091e-02,\n",
              "        1.29727168e-02, 1.16983537e-02, 1.13544562e-02, 3.28302440e-01,\n",
              "        1.19990944e-02, 1.16579266e-02, 9.28986160e-01, 8.87361783e-01]])"
            ]
          },
          "metadata": {},
          "execution_count": 102
        }
      ]
    },
    {
      "cell_type": "markdown",
      "source": [
        "Predict the cluster group:"
      ],
      "metadata": {
        "id": "U_VH139jmTkZ"
      }
    },
    {
      "cell_type": "code",
      "source": [
        "pred = kmeans.fit_predict(X_train_scaled)\n",
        "pred"
      ],
      "metadata": {
        "colab": {
          "base_uri": "https://localhost:8080/"
        },
        "id": "ODcG48X2mutx",
        "outputId": "5a6365a7-a9ad-402b-e745-085169eb9d11"
      },
      "execution_count": 106,
      "outputs": [
        {
          "output_type": "stream",
          "name": "stderr",
          "text": [
            "/usr/local/lib/python3.10/dist-packages/sklearn/cluster/_kmeans.py:870: FutureWarning: The default value of `n_init` will change from 10 to 'auto' in 1.4. Set the value of `n_init` explicitly to suppress the warning\n",
            "  warnings.warn(\n"
          ]
        },
        {
          "output_type": "execute_result",
          "data": {
            "text/plain": [
              "array([2, 2, 2, ..., 2, 2, 2], dtype=int32)"
            ]
          },
          "metadata": {},
          "execution_count": 106
        }
      ]
    },
    {
      "cell_type": "code",
      "source": [
        "\n",
        "\n",
        "k = 3\n",
        "\n",
        "clusters = {}\n",
        "np.random.seed(23)\n",
        "\n",
        "for idx in range(k):\n",
        "    center = 2*(2*np.random.random((X_train_scaled.shape[1],))-1)\n",
        "    points = []\n",
        "    cluster = {\n",
        "        'center' : center,\n",
        "        'points' : []\n",
        "    }\n",
        "\n",
        "    clusters[idx] = cluster\n",
        "\n",
        "clusters\n"
      ],
      "metadata": {
        "colab": {
          "base_uri": "https://localhost:8080/"
        },
        "id": "J7Wanv_Rm3dI",
        "outputId": "0048ae66-7af0-4d70-9368-3f86df153bf5"
      },
      "execution_count": 109,
      "outputs": [
        {
          "output_type": "execute_result",
          "data": {
            "text/plain": [
              "{0: {'center': array([ 0.06919154,  1.78785042,  1.06183904, -0.87041662, -1.11581855,\n",
              "          0.74488834, -1.33144319, -0.43023013,  0.47220939, -0.35227962,\n",
              "         -1.99014048,  1.53612873]),\n",
              "  'points': []},\n",
              " 1: {'center': array([ 1.53979015, -0.79836124,  0.35832746,  1.91370766,  1.38037529,\n",
              "         -1.73969824, -0.82102214, -0.84826224,  1.28986536,  0.50473215,\n",
              "         -1.55808914, -1.99788476]),\n",
              "  'points': []},\n",
              " 2: {'center': array([ 1.76866493, -1.43399697, -0.3136139 , -0.61404224,  1.47914034,\n",
              "         -0.28559275,  1.31500594,  0.87140735, -1.52309322,  0.38553669,\n",
              "         -1.48097481, -1.68986363]),\n",
              "  'points': []}}"
            ]
          },
          "metadata": {},
          "execution_count": 109
        }
      ]
    }
  ]
}